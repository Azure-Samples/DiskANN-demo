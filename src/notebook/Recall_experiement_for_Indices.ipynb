{
 "cells": [
  {
   "cell_type": "markdown",
   "metadata": {},
   "source": [
    "# Explore AirBNB Dataset and Using DiskANN with Python"
   ]
  },
  {
   "cell_type": "code",
   "execution_count": null,
   "metadata": {},
   "outputs": [],
   "source": [
    "%pip install -r ../app/requirements.txt"
   ]
  },
  {
   "cell_type": "code",
   "execution_count": 5,
   "metadata": {},
   "outputs": [],
   "source": [
    "from openai import AzureOpenAI\n",
    "import os\n",
    "import pgvector\n",
    "import numpy as np\n",
    "import psycopg\n",
    "from pgvector.psycopg import register_vector\n",
    "import json\n"
   ]
  },
  {
   "cell_type": "markdown",
   "metadata": {},
   "source": [
    "## Load necessary environment variables"
   ]
  },
  {
   "cell_type": "code",
   "execution_count": 6,
   "metadata": {},
   "outputs": [],
   "source": [
    "%load_ext dotenv\n",
    "%dotenv"
   ]
  },
  {
   "cell_type": "code",
   "execution_count": 7,
   "metadata": {},
   "outputs": [],
   "source": [
    "CONN_STR = os.getenv(\"AZURE_PG_CONNECTION\")\n",
    "DEFAULT_SEARCH_QUERY = \"homes near beach that allows pets and parking\""
   ]
  },
  {
   "cell_type": "markdown",
   "metadata": {},
   "source": [
    "## Define Function for embedding queries"
   ]
  },
  {
   "cell_type": "code",
   "execution_count": 8,
   "metadata": {},
   "outputs": [],
   "source": [
    "client = AzureOpenAI(\n",
    "    api_key=os.getenv(\"AZURE_OPENAI_API_KEY\"),\n",
    "    api_version=\"2024-02-01\",\n",
    "    azure_endpoint=os.getenv(\"AZURE_OPENAI_ENDPOINT\")\n",
    "\t)\n",
    "\n",
    "def embedding_query(text_input):\n",
    "\t# Generate embedding for each text input\n",
    "\tresponse = client.embeddings.create(\n",
    "\t\tinput=text_input,\n",
    "\t\tmodel=\"text-embedding-3-small\"  # Use the appropriate model\n",
    "\t)\n",
    "\n",
    "\t# Parse the JSON string\n",
    "\tjson_response = response.model_dump_json(indent=2)\n",
    "\tparsed_response = json.loads(json_response)\n",
    "\n",
    "\t# Extract the embedding key\n",
    "\tembedding = parsed_response['data'][0]['embedding']\n",
    "\treturn embedding"
   ]
  },
  {
   "cell_type": "markdown",
   "metadata": {},
   "source": [
    "## Simple vector search on database"
   ]
  },
  {
   "cell_type": "code",
   "execution_count": 9,
   "metadata": {},
   "outputs": [
    {
     "name": "stdout",
     "output_type": "stream",
     "text": [
      "('Seattle Pet/Family Friendly Living', 'Diverse city location, conveniently 1block to bus line, nearby grocery/coffee shop. Easy access to I-5 & shopping! Furnishings throughout, detailed cleaning for your comfort.Owner on premise & available!We love letting well behaved/clean pets \\\\stay\\\\! The entire space is for your privacy, a dedicated parking spot for your vehicle. Leave your car and take the bus if you choose. * We hire professional staffing to clean the unit after each guest visits, every area and place the guest touches is sanitized and cleaned for the safety and cleanliness and peace of mind when you stay with us. All sheets and linens are laundered each and every time a guest leaves.  The Oaktree Suite is on the ground level perfect for your cute little doggie to roam outside the enclosed patio area. The kitchen has full appliances for your stay and have a Blender, Juicer, George Foreman Grill, salad spinner, toaster, microwave, coffee maker, rice cooker, lots of pots and pans and cooking utensils, pizza cutter, kni')\n",
      "('Seattle quiet park in-city home!', \"New on mrkt; house next to quiet walk/view/kid PARK; sweet 2 bdrm home w/lrg fenced yd.  West Seattle, 10 min to downtown Seattle + 10 min to airport.  Lrg livingroom and good size bedrooms.  1 Qn + 2 twins. Park has tennis cts, bsktbll & sccr/bb Great little house to feel like you are at home and have a dog comfortably secure in 6' fenced yard. Comfortable so sit back and relax.  Full kitchen conveniences.  Laundry room at back door so dog can come in and out and stay safe while out you are out visiting/sightseeing. Tennis & basketball courts, soccer & baseball  fields; plenty of parking; dog walk trail; views of Seattle from park across the street The whole house is yours to enjoy! Great quiet neighbors who love their location.  Very friendly!  Easy commute to downtown Seattle.  Bus line 3 and 5 blocks away (3 long blocks or 1 long block + 4 short blocks)  Main bus lines. 2 different bus lines into downtown.  Easy communte to Clink, Safeco Fields, downtown and airport No dogs on furn\")\n",
      "('Dog friendly 1BR townhome w/patio', 'Just steps from Greenlake! Leave the car parked and enjoy walking to the lake, PCC market, bars, and restaurants. Easy access to I-5, minutes away from downtown.  Dog-friendly with a fenced patio space to enjoy and free off-street parking.')\n",
      "('Dog-friendly 2BR townhome w/ patio!', \"Just steps from the main street in West Seattle! Leave the car parked and enjoy walking to the farmers market, Trader Joe's, shops and restaurants of the Junction! Dog-friendly with a fenced patio space to enjoy and free off-street parking. 2BR, 1.5 BA townhome that offers a private retreat while still being close to everything that makes West Seattle great! The master bedroom has a queen bed with new memory-foam mattress, ample closet space and your own TV with AppleTV and a DVD player. The second bedroom has a twin daybed that pulls out into a queen as well, so very reasonably sleeps four! Guests can make themselves at home in the fully stocked kitchen, and relax in the private fenced back patio next to the fire pit. Dog friendly! Up to two furry friends are welcome to join you with no extra fees! Within the house, guests should make themselves at home. What's mine is yours! There is also one off-street parking spot in the alley. In the neighborhood, there is ample free street parkin\")\n",
      "('Private North Beach Ocean View Room', 'Open the french doors to the garden & take in the smells of the sea. Walk one block to a private beach entrance & explore the sound at low tide. With its tranquil decor and comforts of home, our guests who visit often threaten to move in. Come visit! A spacious room with queen bed, a cozy recliner perfect for napping, TV with satellite, Wi-Fi and a three quarter bath. Glass french doors with a peek-a-boo view of the water lead to a lovely garden space. Visit our two sweet bunnies, take in the garden or head to the beach. Relax on the patio while sipping your coffee in the morning or enjoying a glass of wine in the evening. Nap with the doors open as you breath in the salty sea water. Our boys lovingly call the room, The Grandma Room, as it is where grandma stays when she comes to visit. And every time Grandma threatens to move in as the room is so comfortable and inviting. You will have your own parking space in our front driveway. Walk just to the side of the house and through the gat')\n",
      "('Room With Balcony', \"It's like a treehouse. This master bedroom with balcony overlooks Kiwanis Ravine. One block from Discovery Park. Quiet dead-end street. Huge bed & futon waiting. My dog wants your quiet dog to come, too. Shared kitchen & bath. Park in garage.    It's like a treehouse. (It's airy, light, clean.) It fits two comfortably.  The balcony. The garage. The washer and dryer. The piano (at certain hours). The fireplace (when it's winter, as arranged).  I am not planning on substantial interactions with guests. One thing I really would like, though, is that guests be available the day of the rental before 5 in the evening to get the key and talk briefly about arrangements. Discovery Park is right here, and Fort Lawton. The locks are a walk away, as are two of the biggest marinas. There's a coffee shop a couple of blocks away, Metropolitan Market a couple of blocks away, a dry cleaner (next to the coffee shop), an acupuncture and a physical fitness place and two beauty salons, all within a couple \")\n",
      "('The Hideaway- Queen Anne/downtown', 'Welcome to the Queen Anne Hideaway.  Your home away from home is a lower level unit below a vintage Queen Anne landmark home.  Take advantage of an incredible savings over a hotel in a pet and family friendly environment.  Pet friendly flooring, dog bed, kennel, and a fenced yard make this the perfect spot to vacation with your pups.   Beautifully furnished, luxury beds with feather toppers, patio with fenced yard, and all the details you need to make your stay perfect.  Our apartment has two bedroom (walls not shared) both with queen beds.  The living area features a flat screen TV, couch, and two of the ugliest recliners you have ever seen.   The kitchen is stocked for all your cooking needs, however, be prepared to do dishes the old fashioned way!  You will find all the condiments and extras on hand necessary, including coffee and creamer (priority uno).    Our one bathroom is updated with a  shower stall and new vanity.  What it lacks in space it makes up for in being well stocked.')\n",
      "('Ballard dog-friendly private space', \"Ideally suited to guests who like their own self-contained space. Conveniently located near buses, grocery stores and restaurants in a quiet neighborhood.  In warm weather you might enjoy relaxing on the back deck. My downstairs bedroom has its own bathroom, separate entrance and a laundry room with kitchen amenities (fridge, sink, microwave, electric kettle, rice cooker, toaster oven, dishes cutlery, etc). Coffee and tea are also provided.  There's a queen futon bed w/ memory foam gel topper, dresser, desk, large closet/storage area, and more.  High-speed wireless is provided, but no cable channels. A Roku player on a large flat screen offers free Netflix streaming as well as some TV channels.    I have a deck and backyard that's very pleasant to relax in sunny weather. You would have complete privacy in this space; I only need to come downstairs once a week or so to do laundry (free use of washer and dryer). I love dogs, I don't own one right now but sometimes dog sit. I currently ha\")\n",
      "('Park Place Apartment with a View', '6 miles from downtown, discover a parklike neighborhood gem near Lake WA beaches and in the most diverse zip code in the US! Walk to shopping and great restaurants, music and more! Local open air market & shops nearby. No Smoking and no pets, please. A jewel of a location near the city but not in the noise or busy-ness. This location is very peaceful and restful with access to fun nearby! The property has a private lighted and covered entry with garden spaces, patios, pathways, and great outdoor seating. We have an outdoor fire pit on the patio with shared access. Your kitchen is directly available for indoor and outdoor eating experiences.  The kitchen is well equipped for preparation of food, includes a DW and medium-sized fridge. Everything is new! Access to the apartment is through an exterior entrance and has a keypad, for complete privacy. We live above and are occasionally entertaining outdoors, though we would check with guests to include them as they are interested. We have ha')\n",
      "('Charming 2-story town home', \"Bring fido and stay in this charming 2 story town house! Soaring ceilings and an open loft bedroom make this 800 sq ft home feel roomy. You'll have a gourmet kitchen for cooking, a second bedroom downstairs, parking, all close to parks and 10 mins to downtown. This is a modern, built green 2 story loft style town home, 5 miles to downtown Seattle, and a 20 min ride to Seatac airport-it's a great option for travelers flying in or driving over for the weekend! As a dog lover, I understand folks who don't like to leave home without their best friend, so dogs are welcome (less than 60 lbs preferred, exceptions made case by case, please inquire). Enjoy the entire town house which sleeps up to 4 people (1 queen bed in the master bedroom loft and the downstairs bedroom includes a futon that pulls out to queen size). There is ample off street parking, a small side yard for your small dog (less than 60 lbs preferred). The master bedroom is an open loft with access to the master bathroom. There \")\n"
     ]
    }
   ],
   "source": [
    "import psycopg\n",
    "\n",
    "# Define the SQL query\n",
    "query = \"\"\"\n",
    "SELECT name, description \n",
    "\t\tFROM listings_search\n",
    "\t\tORDER BY description_vector <=> %s::vector\n",
    "        LIMIT 10;\n",
    "\"\"\"\n",
    "\n",
    "# Connect to the PostgreSQL database\n",
    "with psycopg.connect(CONN_STR) as conn:\n",
    "    with conn.cursor() as cur:\n",
    "        # Execute the query\n",
    "        emb = embedding_query(DEFAULT_SEARCH_QUERY)\n",
    "        \n",
    "        cur.execute(query, (emb,))\n",
    "        \n",
    "        # Fetch the results\n",
    "        results = cur.fetchall()\n",
    "        \n",
    "        # Print the results\n",
    "        for row in results:\n",
    "            print(row)"
   ]
  },
  {
   "cell_type": "markdown",
   "metadata": {},
   "source": [
    "## Vector Search with filters - Using No Index"
   ]
  },
  {
   "cell_type": "code",
   "execution_count": 14,
   "metadata": {},
   "outputs": [
    {
     "name": "stdout",
     "output_type": "stream",
     "text": [
      "========== Explanation of the query ==========\n",
      "('Limit  (cost=1787.20..2469.88 rows=10 width=1115) (actual time=2929.278..3114.194 rows=10 loops=1)',)\n",
      "('  ->  Nested Loop  (cost=1787.20..33600.21 rows=466 width=1115) (actual time=2929.276..3114.184 rows=10 loops=1)',)\n",
      "('        Join Filter: (l.listing_id = c.listing_id)',)\n",
      "('        Rows Removed by Join Filter: 20818',)\n",
      "('        ->  Index Scan using listings_search_cosine_diskann on listings l  (cost=787.20..2977.44 rows=2224 width=1125) (actual time=2199.861..3001.680 rows=2083 loops=1)',)\n",
      "(\"              Order By: (description_vector <=> '[0.0068256045,0.00038570366,0.06252902,0.04077353,-0.022247748,-0.062144816,-0.016676806,0.017697345,0.020086607,0.022007622,0.022055646,-0.0027749653,-0.01312293,0.025549492,-0.04363104,-0.013759266,0.004649455,0.0038090113,0.057678457,0.007443931,0.019342214,-0.022764022,-0.04579218,-0.044399444,0.0075399815,0.00037294693,-0.053068023,-0.019330207,0.042262316,-0.0077380864,0.008158308,-0.039356783,0.026485987,0.006357357,0.029079355,0.0030075882,-0.0033077467,-0.0051116995,-0.0038360257,0.009418974,-0.035706855,0.014191494,0.032753296,0.027038278,-0.013339044,0.048673704,0.013182961,-0.011351994,-0.020494822,0.018885974,0.011958315,-0.028022798,-0.017277123,-0.05974355,-0.00087946444,0.009821186,0.017073015,0.010193382,0.026221847,0.025813632,-0.016868908,-0.033257563,0.023436375,0.036883477,-0.028503051,0.040989645,-0.04031729,-0.016952952,-0.027998785,0.031456612,-0.009028768,0.023820579,-0.002429783,0.0231002,0.006765573,-0.02768662,-0.03870844,-0.00081417995,0.005237766,-0.0042712553,-0.02768662,-0.0016448686,-0.019066067,-0.04238238,-0.045648105,-0.020855013,0.019042056,-0.008002225,-0.041013658,0.0025633536,0.03592297,0.0045383964,-0.06910849,-0.0017229099,-0.018958012,0.006018178,-0.02342437,-0.032465145,0.0034098006,-0.017133048,-0.007984216,-0.087021954,-0.024504941,0.00020598377,-0.00636336,0.0008629557,-0.005525918,0.028983304,0.02922343,-0.022163704,-0.066515125,-0.0032207007,-0.018645845,0.013254999,-0.016604768,0.0014587704,0.0068316073,0.0034007959,-0.017036997,-0.023244275,-0.041998178,0.03126451,0.00087045965,-0.055949546,0.038756467,0.031744763,-0.020422785,-0.038204174,-0.029895786,-0.00736589,-0.04274257,0.0002579487,0.042142253,-0.034554247,-0.057390306,0.0017619304,-0.0070056994,-0.032128967,0.0083324,0.013182961,0.08855876,0.0067175473,-0.035995007,0.0038030082,-0.0126907015,-0.006933661,0.023592459,-0.017085021,0.038900543,-0.0032537181,0.024516946,0.009479006,-0.0036079052,0.022295773,0.011370004,-0.013507132,0.04776122,-0.022872077,-0.05897514,0.018657852,-0.047641158,-0.0658908,0.023952648,0.027254391,0.009154835,0.042430405,0.0083864285,-0.014047418,-0.057294253,0.06137641,0.0021281238,-0.022427844,-0.019678392,0.030135913,0.032032914,0.009454993,0.039740987,0.0058831065,-0.0047905296,-0.0046974807,0.0043342886,-0.021743482,-0.023808572,0.033785842,-0.007600013,0.025189301,0.009112813,0.01643668,-0.04050939,0.055517316,-0.023736535,-0.051627263,0.01509197,0.01728913,0.000607821,-0.021227209,-0.009605072,-0.012630669,-0.025861656,-0.044471484,-0.040821556,-0.03388189,0.016556744,0.0029025327,0.019150112,-0.041085694,-0.040365316,-0.0031006373,0.027518531,-0.06728353,-0.023208255,0.018441739,0.020050587,0.024228795,-0.008746618,-0.03765188,0.06781181,-0.022295773,0.013411082,0.019402245,-0.007203804,-0.006429395,0.03858838,0.017373174,-0.007299855,0.044567533,0.026365923,-0.0036979527,0.037555832,0.024480928,-0.034098007,0.033641767,-0.03429011,0.00021667691,-0.005342821,0.06459411,0.021635424,-0.048529625,-0.041109707,-0.0075760004,-0.019954538,-0.0018234629,-0.052203566,-0.005853091,0.00019735421,-0.008068261,-0.008914707,0.00058605947,0.03700354,-0.034818385,0.0070477217,0.044039257,-0.0065794745,0.016376648,0.03827621,0.009695119,-0.020903038,0.029415533,-0.008590536,0.021767495,0.02047081,0.019834474,0.008158308,-0.037916023,0.006111227,-0.04264652,-0.0051177023,0.026894202,-0.04533594,0.020134632,-0.05431668,-0.024853123,-0.024192775,-0.036403224,0.02939152,0.020446798,-0.019462278,-0.014095443,0.006321338,-0.012216451,-0.00193152,-0.042670533,0.042094227,-0.0048715724,0.04346295,0.077368855,-0.03047209,-0.025741594,-0.033449665,0.04202219,-0.0100433035,-0.0026789147,-0.030304002,-0.044303395,-0.008752622,0.0014557687,0.001772436,-0.05234764,0.0600317,0.014143469,0.034170043,0.064738184,-0.07453536,-0.05974355,-0.019606354,0.0077741053,0.019738423,-0.002719436,-0.015608242,0.02283606,-0.024540959,-0.0139273545,-0.051627263,-0.07674453,-0.0018414725,-0.0077200765,0.009418974,0.01039749,0.036883477,-0.014371589,0.008992748,0.014623722,-0.013315031,-0.014191494,-0.0029415532,-0.024709048,0.009160837,-0.0036199116,0.032225017,0.023988668,-0.030135913,0.027110316,0.027518531,0.017493237,0.0109377755,-0.058638964,-0.05787056,0.0011728693,-0.027494518,0.00021761491,-0.02759057,-0.06396978,-0.021371284,0.029535597,-0.031576674,-0.011940305,0.018549796,0.0059851604,0.01166416,0.05931132,-0.0010580587,-0.04701683,0.0035088528,0.009617078,0.0062613063,0.011622137,0.04874574,0.027278405,-0.019462278,0.052443694,0.02562153,0.042214293,-0.042214293,-0.006699538,0.020206671,-0.023472395,-0.010205389,-0.017601294,0.006453408,0.039140668,-0.03851634,-0.0076420354,0.026822165,0.046008296,0.007419918,0.09004755,0.0008959731,0.009827189,0.014119456,-0.025477454,0.025381403,0.0040551415,-0.021491349,-0.00043297865,0.011069845,0.0008599541,-0.006375367,-0.031120434,-0.05186739,-0.024661023,-0.022091666,-0.039668947,-0.0155842295,-0.016976966,-0.00674156,0.009755151,0.027614582,-0.0386364,-0.04687275,-0.0042112237,0.0017304138,-0.019918518,0.03671539,-0.029079355,-0.049322046,-0.034266096,-0.018657852,0.0125946505,-0.015115982,-0.055709418,-0.0053788405,-0.011412026,0.044951737,0.035514753,-0.045984283,0.01335105,0.02260794,0.020446798,0.0037009544,-0.006357357,0.030063875,0.029559609,-0.045095813,-0.018081548,-0.033257563,0.01130397,0.03726768,-0.025573505,-0.0666592,0.0013897339,0.027518531,0.010289433,-0.03719564,0.044231355,0.00736589,-0.023688508,-0.020782975,0.014035411,-0.03510654,-0.049946375,-0.007918181,-0.030976357,-0.0014054922,0.037243668,-0.052923948,-0.028407,0.04956217,0.03573087,-0.039212707,0.016424673,-0.00821834,0.037579846,0.015596236,-0.01810556,0.020806987,0.017637314,0.050762806,0.02948757,0.008074264,0.017949479,0.07112556,-0.004919598,0.035946984,-0.042166267,0.07482351,0.0104815345,-0.024805099,0.025813632,-0.016064484,-0.07232619,0.010595595,-0.018393712,0.024877137,0.008440457,-0.018381707,-0.05849489,0.0034818386,-0.012180432,0.0077921147,-0.03565883,-0.07636032,0.034242082,0.004586422,0.021875551,0.038300224,0.0005785555,0.05071478,-0.016424673,-0.07232619,-0.013495126,-0.013002866,0.03044808,-0.0008059256,-0.011670163,-0.035418704,-0.0075039626,0.007341877,-0.006054197,0.06584277,0.029055344,0.013495126,-0.07189397,-0.010115341,0.0215874,-0.0065794745,0.04084557,-0.044543523,-0.021071127,-0.015152001,-0.0002808358,-0.0051837373,0.01594442,0.007828134,-0.0037339719,-0.016112508,-0.017109035,-0.00049150956,0.01308691,-0.051387135,0.0023232268,0.025261339,0.032681257,0.02490115,-0.012126404,0.0014017402,-0.009647095,-0.029799737,-0.06670722,-0.013987387,-0.007996223,-0.044375435,0.003688948,-0.03457826,0.004919598,0.0126907015,-0.016880915,-0.0088066505,0.0183697,-0.003610907,-0.021167178,0.013134936,-0.026774138,0.0028815216,0.0016088496,-0.046512563,-0.005772048,0.022848066,0.03054413,-0.010583589,0.008626555,0.021335267,0.05484496,-0.015752317,0.014851843,0.0074619404,0.02831095,0.01981046,-0.016832888,0.014263532,0.015188021,-0.011159893,-0.004352298,0.016820883,0.007485953,-0.01787744,0.01853779,0.020542847,-0.01039749,0.017589288,-0.008032242,-0.021227209,0.009893225,-0.023220262,-0.0070357155,-0.03601902,-0.00026807905,-0.032393105,-0.02624586,0.036571313,-0.00060632016,-0.017673332,-0.0068316073,0.028599102,0.010625611,-0.013411082,-0.0038240193,-0.013987387,0.0002179901,-0.004916596,-0.020398771,-0.016556744,-0.011406023,-0.02463701,-0.038732454,-0.026101783,0.03395393,-0.026221847,-0.021131158,-0.0600317,-0.011045833,-0.031744763,-0.025933694,0.024216788,-0.012978854,-0.036427237,0.018153585,-0.06459411,-0.05518114,0.0021401301,-0.007419918,-0.019546323,-0.0052917944,0.019954538,-0.017685339,-0.042838622,-0.022259755,-0.086109474,0.01164615,0.014119456,-0.001160863,0.02289609,0.0097011225,0.020458804,0.031192472,-0.0095870625,-0.032633234,0.036931504,-0.01886196,-0.0027674614,-0.023148224,0.02378456,0.028959293,0.0031936865,-0.0023277292,-0.008266365,-0.012846784,0.010835722,0.028551077,-0.0030105899,0.014755792,-0.027254391,-0.0020170652,0.012966847,-0.049225993,-0.003493845,0.0042202286,-0.009178847,0.020362753,-0.0004213475,-0.00509369,-0.03664335,-0.0062252874,0.035058513,-0.031216484,-0.020650905,0.02030272,-0.03188884,-0.029583622,0.022547906,0.057390306,0.0064113857,0.029799737,-0.03429011,-0.039933085,0.017529257,0.017613301,0.009400965,-0.015608242,-0.042622507,-0.03244113,0.031696737,0.036115073,0.034434184,-0.014611715,0.01643668,-0.012714714,0.038132135,0.014659741,-0.06094418,0.03368979,-0.007888165,0.034554247,-0.046800714,0.0027224377,0.00047199926,-0.006105224,0.016604768,0.0027614583,-0.016460693,0.02713433,-0.014683754,0.031528648,-0.0154881785,0.03100037,0.032056928,0.037747934,0.0028515058,-0.04917797,0.018033523,-0.06348953,-0.006465414,0.002618883,0.025213314,-0.030952346,0.02509325,-0.021743482,-0.004520387,-0.036355197,0.0018174597,-0.042694546,0.024252808,-0.028527064,0.0025588511,-0.014983912,0.021947589,-0.023928637,0.016592762,0.029367508,0.013447101,0.025765605,0.025573505,-0.014215507,0.013891336,0.0022616943,-0.015824357,0.039476845,0.04281461,-0.018513776,-0.01804553,0.00539685,0.018717885,-0.026822165,-0.016544737,0.02316023,-0.0068256045,0.030688206,-0.054604836,-0.0057330276,-0.019942531,-0.03618711,0.01581235,0.0044093286,0.035082527,0.0046824724,0.013735253,-0.004295268,0.018033523,-0.01600445,-0.056814,0.00075752503,0.028695153,0.00808627,-0.0014677751,0.0042802603,-0.047256954,-0.019414252,-0.012288489,-0.018297663,0.040269263,0.01679687,0.01715706,-0.014395602,0.011003811,-0.039260734,0.044591546,-0.024853123,-0.01102182,-0.004832552,0.0035358672,0.022151697,-0.00035324905,-0.043294862,-0.026654076,-0.008896698,0.023280293,-0.042166267,-0.022487875,0.014287544,-0.007095747,0.00079016725,-0.013254999,-0.011724191,0.008398435,-0.019198138,-0.029847762,0.0019780446,0.0367394,0.008290377,0.0320089,-0.019174125,-0.019462278,-0.049418095,-0.0033227545,-0.030255977,0.0040041143,0.018441739,-0.006153249,0.0017109035,0.005901116,0.03073623,0.02490115,-0.021047113,0.015428147,-0.010061313,0.009016762,0.013026879,-0.017109035,0.0033827864,-0.0028665138,0.03412202,0.002755455,0.005441874,-0.014671748,-0.019570334,-0.025669554,0.018033523,0.0013529644,0.020278709,0.01312293,0.0019135105,0.0049646217,0.020542847,0.01886196,-0.003622913,-0.011538093,0.01643668,-0.028527064,0.0027029272,0.017889448,-0.018033523,-0.008974739,0.0029910796,-0.003884051,0.0070357155,0.0076060165,0.00893872,0.0029355502,0.013951367,-0.012714714,0.021779502,0.047545105,0.015392128,-0.017097028,0.013783279,-0.04379913,-0.05796661,-0.005351826,-0.02732643,-0.03179279,0.025693567,0.0035208592,0.020506829,0.023076186,-0.024300832,0.019906512,-0.031912852,-0.0037699908,-0.013543151,0.01532009,-0.04927402,-0.010817712,-0.012750734,-0.006255303,-0.0011240935,-0.009094803,0.019438265,0.005931132,0.0069276583,0.017757377,-0.017433206,-0.043054737,0.00734788,-0.03414603,-0.00091248186,0.013495126,0.0052677817,-0.0024402887,0.03457826,-0.01361519,0.005114701,0.026101783,-0.015620248,0.015272065,0.023760548,0.018297663,-0.005895113,-0.032273043,0.029679673,0.0012036356,0.00048513117,0.0282149,0.017601294,0.043078747,-0.01853779,-0.025525479,0.036403224,0.01978645,0.017469225,0.008062257,-0.009274898,-0.0071497755,-0.013062898,-0.05546929,0.0012966847,0.0062312903,0.004592425,-0.034842398,0.011724191,-0.026269872,-0.003232707,-0.020578867,0.013855317,-0.015067956,0.008128292,-0.0029910796,0.04091761,-0.013050891,0.017109035,0.00070424686,0.015920406,-0.0033677784,0.023580452,0.024468921,0.000598441,0.0071617817,-0.029535597,0.01410745,0.017817408,0.041662,0.0035838925,-0.0013169454,0.04756912,0.01853779,0.028094836,0.065602645,-5.7827412e-05,0.03299342,-0.0006941165,-0.003962092,0.012774746,-0.0094730025,-0.003935078,0.027110316,-0.032561194,0.023940641,0.026630063,0.013134936,-0.0029190416,-0.026918214,-0.012462581,-0.0076360325,0.009845199,0.019894505,-0.016556744,-0.018777916,0.010313446,-0.004520387,-0.017997503,0.049610198,-0.012426562,-0.015704293,0.047881283,0.015560217,0.015464166,-0.010211392,0.0061172303,0.03962092,-0.005408856,0.017565276,0.0431748,-0.03330559,0.031504635,-0.048025362,0.031480625,-0.017133048,0.02617382,-0.014035411,0.024480928,-0.005033658,-0.020422785,0.008548514,0.05705413,0.0058050654,0.0050606723,-0.026269872,0.0034037975,0.01371124,0.008080267,0.024120737,-0.015620248,-0.014479646,0.03834825,0.026221847,0.026534012,-0.0044603553,0.032585207,-0.017793396,0.0075820037,0.0021386293,0.050570704,0.02283606,-0.017757377,-0.035538767,0.0070056994,-0.043150786,0.00452639,0.0073838993,0.027758658,-0.048673704,-0.017409192,-0.02079498,-0.0020200668,0.031192472,-0.009479006,-0.018897979,0.0055139116,-0.009803177,0.0063393475,-0.0024072712,-0.011868267,-0.0077620987,-0.02352042,0.0041481904,-0.0011518582,-0.0040221238,-0.018573808,0.025477454,-0.009274898,0.03592297,-0.0073058577,0.025189301,0.021839533,0.0057480354,0.027398469,0.020410778,0.013663215,-0.0043372903,-0.0006595983,-0.0067835823,0.0042652525,-0.033785842,-0.021047113,0.01166416,0.0018669859,-0.03969296,0.034098007,-0.014287544,-0.02939152,0.00020579617,0.028623115,-0.022559913,0.011225928,-0.020662911,0.005345823,0.006603487,-0.002609878,0.007756096,0.0034128022,-0.024336852,0.0030691207,0.013759266,0.04543199,-0.02463701,-0.02939152,0.025309365,0.013110924,-0.010667633,0.041613974,-0.011580115,0.027998785,0.022163704,0.0027179352,0.03421807,0.019366227,0.016592762,-0.009527031,0.027854709,0.0032927387,-0.009941249,0.059791572,-0.026317898,0.0048925835,-0.019942531,-0.01604047,0.009154835,-0.007588007,0.011922296,-0.015368115,-0.037867997,0.01833368,-0.0036919496,-0.028839229,-0.016340628,0.010703652,0.025213314,-0.029271457,0.025909683,0.008986746,-0.0039170682,0.028551077,-0.0028770193,0.035538767,-0.019366227,0.0073718927,-0.00046637128,0.029895786,0.0061892685,0.02132326,-0.027374456,-0.0021731476,0.009599069,-0.01272672,0.016160535,-0.034170043,-0.020350747,0.0065794745,-0.01882594,-0.028599102,-0.00823635,0.021779502,-0.0060211797,0.0009665104,0.0076840576,-0.0061832652,0.007954201,0.008032242,-0.008872685,-0.015572223,0.011838252,0.015752317,0.019390238,-0.007924184,-0.054124583,-0.034194056,-0.0148038175,0.0047485074,0.039356783,-0.018177599,-0.007852146,0.0049886345,0.014083437,-0.032825332,0.0056159655,-0.029127382,0.008074264,0.029007317,0.0039560893,0.0768886,0.021443324,-0.0033887895,-0.012210448,-0.00036619336,-0.012306498,0.02001457,0.005982159,0.0037069574,0.049322046,-0.00736589,-0.053980503,-0.012012343,-0.023568446,-0.0028920271,-0.008566524,0.03726768,-0.011460052,0.008950726,-0.010439512,0.017973492,-0.015139995,0.015428147,-0.03630717,-0.011454049,-0.003160669,-0.010499544,0.012114397,0.011832248,0.02191157,-0.0073298705,0.010385484,-0.00810428,0.006789585,0.01568028,-0.012426562,0.0031366562,0.019042056,-0.008182321,-0.0021596404,0.003544872,0.025189301,0.0052827895,-0.022715995,0.028527064,0.02302816,-0.0064834235,0.012522613,0.030856295,-0.014659741,0.01909008,0.033257563,0.024661023,-0.012162423,0.023220262,0.011201915,-0.027470507,-0.010841725,0.034626286,-0.012678695,-0.036979526,-0.01335105,0.0016328623,0.00446936,0.034626286,-0.0034698322,-0.042502444,0.012114397,0.00016246078,-0.011448045,-0.005216755,0.016148528,0.026461974,0.00052340137,0.037483793,-0.02283606,0.00023281045,0.05205949,-0.011111868,-0.006849617,-0.009887221,-0.014503659,0.03923672,0.008854676,0.019114094,-0.0024222792,-0.009088799,-0.009707126,0.047737207,0.02119119,-0.009310917,0.0076720514,0.02723038,0.005736029,-0.0064474046,0.00183697,-0.0333296,-0.01751725,-0.026101783,-0.020026576,0.03155266,-0.0073178643,-0.03630717,0.016880915,0.02316023,-0.011976324,0.016184546,0.009773161,0.02213969,0.0067595695,-0.017613301,-0.009959259,0.015260058,-0.03253718,-0.03609106,-0.0057840543,-0.017445212,-0.015500185,0.044639573,0.019762436,-0.0054268655,0.024733061,0.03090432,-0.022499882,0.048265487,-0.001649371,0.037771948,0.048889816,-0.007389902,0.005363832,-0.001530058,-0.0028560082,0.0006280817,0.020542847,-0.025429428,0.022920104,-0.018405719,-0.013206974,0.025837643,-0.01827365,0.008278372,0.017625308,-0.0052977977,-0.010445516,-0.021071127,-0.0083864285,0.0037940035,-0.0063153347,0.003884051,0.02831095,-0.024709048,0.046920776,-0.015103976,-0.03798806,0.0267021,0.03433813,0.024072712,-0.035874944,-0.042790595,-0.016964959,-0.014527672,0.0072818454,-0.011081852,0.0108237155,0.035634816,-0.013495126,-0.005366834,0.015548211,0.005988162,0.016508717,0.019462278,0.024685035,-0.024805099,-0.009851202,-0.014443628,0.026005732,-0.044063266,0.010835722,-0.014155475,0.0018174597,0.003992108,-0.005766045,-0.023988668,0.02119119,0.048145425,0.036403224,0.025957707,-0.0026579036,-0.0050216517,0.018261643,-0.016052477,-0.0009492513,-0.0023232268,0.008668577,-0.01469576,-0.050282553,0.008320394,0.018153585,0.0024612998,-0.001164615,-0.026654076,0.03155266,0.025933694,0.00091548346,-0.021767495,-0.0028680144,-0.005973154,0.022187717,-0.015404134,0.013999392,0.005778051,-0.027278405,0.019858487,-0.019378234,-0.003052612,-0.007966206,0.012378537,0.016016457,-0.014659741,0.034025967,-0.02266797,-0.050570704,-0.015524197,-0.00916684,-0.058014635,-0.0005050167,0.07458338,-0.021395298,0.006675525,0.0071077533,0.014287544,-0.014155475,0.023760548,-0.026029745,-0.0016313614,-0.015992446,0.021827526,-0.015067956,-0.012234461,0.00011706181,0.022776026,-0.024853123,0.0042262315,-0.004205221,-0.04084557,-0.028382989,-0.0027719638,0.01357917,0.010577586,-0.012414556,-0.017277123,0.03335361,-0.009689117,-0.022679977,0.0020560857,-0.029535597,0.038684428,-0.026317898,0.014647735,-0.01348312,0.0041271793,-0.020422785,0.015596236,0.01755327,-0.01643668,-0.006849617,0.01384331,-0.004973626,-0.022740008,0.0044303397,-0.02732643,0.016328622,0.017589288,-0.017169066,-0.022944115,-0.02588567,0.011009814,0.027038278,0.003043607,-0.0053998516,-0.020758962,0.0044243364,0.008242353,-0.04951415,0.018189605,0.016412666,0.017337155,0.020050587,0.017949479,-0.0061232336,-0.007059728,0.002393764,-0.031480625,0.0063453508,0.0068316073,-0.00992324,0.017012984,-0.012822771,0.009268895,-0.0019300191,0.027494518,-0.006957674,-0.019330207,0.035130553,0.015200026,0.018465752,0.010457522,1.13966435e-05,-0.0032657245,-0.001924016,0.0068976423,-0.008866682,0.006669522,-0.006243297,-0.030376041,-0.014539678,0.010463526,0.011117871,0.0038000066,0.056814,-0.0052407673,-0.02109514,0.01090776,0.0075039626,-0.021935584,-0.05350025,-0.016148528,-0.0102714235,-0.0033107484,0.031816803,0.03136056,0.03306546,0.008284375,-0.03842029,0.024180768,-0.005258777,-0.019042056,0.020662911,0.013315031,-0.023040166,0.04031729,0.017913459,-0.006543455,-0.0015788337,0.008452463,0.0039650938,0.018970018,0.023196248,0.01751725,0.021419311,0.03044808,0.008530505,-0.0008276871,-0.034170043,-0.055517316,0.0054658866,0.020831,-0.006069205,0.023940641,-0.01473178,0.020855013,-0.009088799,-0.02922343,-0.009292907,0.014539678,-0.016580755,-0.037795957,0.003349769,-0.0134711135,0.051387135,-0.019210145,0.03289737,-0.025813632,-0.0032237023,-0.006255303,0.00026545266,0.00956305,0.021011095,-0.014227513,0.009653097,0.0029820746,0.0026519003,-0.016556744,0.008206333,-0.010007285,0.0023307307,0.009466999,0.025213314,-0.011003811]'::vector)\",)\n",
      "('        ->  Materialize  (cost=1000.00..12842.05 rows=533 width=4) (actual time=0.001..0.029 rows=10 loops=2083)',)\n",
      "('              ->  Gather  (cost=1000.00..12839.39 rows=533 width=4) (actual time=1.932..58.615 rows=10 loops=1)',)\n",
      "('                    Workers Planned: 2',)\n",
      "('                    Workers Launched: 1',)\n",
      "('                    ->  Parallel Seq Scan on calendar c  (cost=0.00..11786.09 rows=222 width=4) (actual time=1.541..34.800 rows=5 loops=2)',)\n",
      "(\"                          Filter: ((price < '30'::numeric) AND (date = '2017-01-02'::date) AND ((available)::text = 't'::text))\",)\n",
      "('                          Rows Removed by Filter: 464092',)\n",
      "('Planning Time: 49.408 ms',)\n",
      "('Execution Time: 3114.307 ms',)\n",
      "========== Rows from Database ==========\n",
      "(7064681, 'Tent Crash Pad', 'For those low budget travelers that need just a place to sleep, shower, and a toilet then you found it.  This listing is for me providing a two person tent, sleeping pads, and sleeping bags. I also have a three person tent available. Min 2 night stay We have space in our back yard for a couple of tents. This listing is for a two person tent, sleeping pads, and bags. I also have a three person tent but it is a bit snug and there is an additional fee for the extra person. Our neighbor does have a dog so we ask you to keep the noise down to help prevent the dog from barking.  NO SMOKING OR SMOKERS.  I will discount the price by $10 if you bring your own gear. As a tent guest you will have access to a toilet at anytime. Access to a shower is limited from 10am to 9pm. My schedule is crazy but since you will be staying outside then the tent will be ready for you prior to your arrival. Then we can meet later in the day to go through bathroom access inside the house. We live a nice quite and s', 'For those low budget travelers that need just a place to sleep, shower, and a toilet then you found it.  This listing is for me providing a two person tent, sleeping pads, and sleeping bags. I also have a three person tent available. Min 2 night stay')\n",
      "(2459519, 'Fabulous Views of Lakes & Mountains', \"Centrally located, minutes to downtown. Views are panoramic of the Cascade Mountains,  Portage Bay and University of Washington. We overlook the Seattle Yacht Club and Seattle's famous floating homes. Walk to restaurants. Superb & quiet neighborhood! Welcome! Our house is ideally located for visiting Seattle. Minutes to downtown sites and nightlife, but in a quiet highly desirable neighbourhood. Our fully remodeled 1903 house is bright and light with an open floor plan in the main floor. The gourmet kitchen is well-equipped for entertaining and large groups. The kitchen opens to the living space which also has a built-in reading nook for afternoon lounging. The kitchen also opens to an East-facing deck with tables and seating for eight. The gas BBQ is just down the stairs. Just off the entry is our den with fireplace, piano and guest guitars for your use.  The second floor has three bedrooms, each with ample space.  The master bed is a Cal King, one bedroom is a double bed and the othe\", \"Centrally located, minutes to downtown. Views are panoramic of the Cascade Mountains,  Portage Bay and University of Washington. We overlook the Seattle Yacht Club and Seattle's famous floating homes. Walk to restaurants. Superb & quiet neighborhood!\")\n",
      "(7411863, 'Room E Single Bed in the conner', 'Single Bed in the conner of laundry room  Clean and quiet.  Easiest commute in town - From SeaTac airport to my place, it takes only about 20 min via LINK light rail, and from our place to downtown Seattle is a 15 min ride. 3min by foot to station. This Single Bed is in the conner of laundry room. Free parking sport around the house.', 'Single Bed in the conner of laundry room  Clean and quiet.  Easiest commute in town - From SeaTac airport to my place, it takes only about 20 min via LINK light rail, and from our place to downtown Seattle is a 15 min ride. 3min by foot to station.')\n",
      "(7011773, 'Pull out couch in garage', 'By Special Request Only', 'By Special Request Only')\n",
      "(3994601, 'Crayola Home Green Room-Bunk Bed 5', 'Our space is a mix of a hostel and a home. We are a group of long-term residents & subletors who welcome short term guests. This is the house to meet folks whether you are moving to town or traveling through. The house offers quiet and social spaces. Our listing offers a unique Airbnb experience of staying with other Airbnb guests in a shared room as well as in a house of roommates who live in Seattle. This room is a great fit for individual or groups of travelers on a budget who are interested in meeting interesting people right in the place they are staying! We created this house so that people from around the world could meet, share experiences together and potentially create long lasting friendships that go beyond their time in our house. In a big house we are making the world smaller with more connections between people. Below is more information about your shared room, about us and about our house. Read through and see if we are a good fit for your trip! ABOUT YOUR SHARED ROOM:  ', 'Our space is a mix of a hostel and a home. We are a group of long-term residents & subletors who welcome short term guests. This is the house to meet folks whether you are moving to town or traveling through. The house offers quiet and social spaces.')\n",
      "(3811828, 'Crayola Home Green Room-Bunk Bed 3', 'Our space is a mix of a hostel and a home. We are a group of long-term residents & subletors who welcome short term guests. This is the house to meet folks whether you are moving to town or traveling through. The house offers quiet and social spaces. Our listing offers a unique Airbnb experience of staying with other Airbnb guests in a shared room as well as in a house of roommates who live in Seattle. This room is a great fit for individual or groups of travelers on a budget who are interested in meeting interesting people right in the place they are staying! We created this house so that people from around the world could meet, share experiences together and potentially create long lasting friendships that go beyond their time in our house. In a big house we are making the world smaller with more connections between people. Below is more information about your shared room, about us and about our house. Read through and see if we are a good fit for your trip! ABOUT YOUR SHARED ROOM:  ', 'Our space is a mix of a hostel and a home. We are a group of long-term residents & subletors who welcome short term guests. This is the house to meet folks whether you are moving to town or traveling through. The house offers quiet and social spaces.')\n",
      "(3994634, 'Crayola Home Green room-Bunk Bed 6', 'Our space is a mix of a hostel and a home. We are a group of long-term residents & subletors who welcome short term guests. This is the house to meet folks whether you are moving to town or traveling through. The house offers quiet and social spaces. Our listing offers a unique Airbnb experience of staying with other Airbnb guests in a shared room as well as in a house of roommates who live in Seattle. This room is a great fit for individual or groups of travelers on a budget who are interested in meeting interesting people right in the place they are staying! We created this house so that people from around the world could meet, share experiences together and potentially create long lasting friendships that go beyond their time in our house. In a big house we are making the world smaller with more connections between people. Below is more information about your shared room, about us and about our house. Read through and see if we are a good fit for your trip! ABOUT YOUR SHARED ROOM:  ', 'Our space is a mix of a hostel and a home. We are a group of long-term residents & subletors who welcome short term guests. This is the house to meet folks whether you are moving to town or traveling through. The house offers quiet and social spaces.')\n",
      "(4701205, 'couch in CapHill studio by downtown', \"A 5 minute walk from both Broadway (the heart of Capitol Hill) and downtown Seattle. Despite living between 5 bars, noise levels at night are very small. A bus ride away from U-District.    My apartment is a almost like a studio layout...I have a living room connected to a kitchen connected to my bedroom. My bedroom does not have a door on it. The apartment is made of brick, which I feel helps deter sound going from one apartment into another (I've never had any noise complaints with my music, despite the 85 decibel noise level). A bathroom, a barbell rack and barbell, various (PHONE NUMBER HIDDEN), and 45 pound weights. I'm down to hang out with you for a few hours! Maybe even show you some of the tourist spots! Lots of music, arts, gay friendly, liberal, Q Nightclub (EDM music)... Lots of bus lines around! 8 goes to the Space Needle.\", 'A 5 minute walk from both Broadway (the heart of Capitol Hill) and downtown Seattle. Despite living between 5 bars, noise levels at night are very small. A bus ride away from U-District.   ')\n",
      "(3666970, 'Crayola Home - Purple Room Bunk 3', 'Our space is a mix of a hostel and a home. We are a group of long-term residents & subletors who welcome short term guests. This is the house to meet folks whether you are moving to town or traveling through. The house offers quiet and social spaces. Our listing offers a unique Airbnb experience of staying with other Airbnb guests in a shared room as well as in a house of roommates who live in Seattle. This room is a great fit for individual or groups of travelers on a budget who are interested in meeting interesting people right in the place they are staying! We created this house so that people from around the world could meet, share experiences together and potentially create long lasting friendships that go beyond their time in our house. In a big house we are making the world smaller with more connections between people. Below is more information about your shared room, about us and about our house. Read through and see if we are a good fit for your trip! ABOUT YOUR SHARED ROOM:  ', 'Our space is a mix of a hostel and a home. We are a group of long-term residents & subletors who welcome short term guests. This is the house to meet folks whether you are moving to town or traveling through. The house offers quiet and social spaces.')\n",
      "(4825073, 'Cute Basement Apartment', '2 bedroom fully finished basement apartment with separate entrance.', '2 bedroom fully finished basement apartment with separate entrance.')\n"
     ]
    }
   ],
   "source": [
    "sql_query = \"\"\"\n",
    "\tWITH listing_cte AS\n",
    "\t(\n",
    "\t\tSELECT l.listing_id, name, summary, description, description_vector\n",
    "\t\tFROM listings l \n",
    "\t\tINNER JOIN calendar c ON l.listing_id = c.listing_id \n",
    "\t\tWHERE c.date = '2017-01-02' AND c.available = 't' AND c.price < 30\n",
    "\t)\n",
    "\tSELECT l.listing_id, name, summary, description\n",
    "\tFROM listing_cte l\n",
    "\tORDER BY description_vector <=> %s::vector\n",
    "\tLIMIT 10;\n",
    "\"\"\"\n",
    "\n",
    "# Establish a connection to the PostgreSQL database\n",
    "with psycopg.connect(CONN_STR) as conn:\n",
    "\twith conn.cursor() as cur:\n",
    "\t\t# Execute the SQL query\n",
    "\t\temb = embedding_query(DEFAULT_SEARCH_QUERY)\n",
    "\t\t\n",
    "\t\tprint(\"=\"*10, \"Explanation of the query\", \"=\"*10)\n",
    "\t\texplain = \"explain analyze\"\n",
    "\t\tcur.execute(explain+sql_query, (emb,))\n",
    "\t\t\n",
    "\t\t# Fetch the results\n",
    "\t\tresults = cur.fetchall()\n",
    "\t\t\n",
    "\t\t# Print the results\n",
    "\t\tfor row in results:\n",
    "\t\t\tprint(row)\n",
    "\t\tprint(\"=\"*10, \"Rows from Database\", \"=\"*10)\n",
    "\t\t# Fetch the results\n",
    "\t\tcur.execute(sql_query, (emb,))\n",
    "\t\tresults = cur.fetchall()\n",
    "\t\t\n",
    "\t\t# Print the results\n",
    "\t\tfor row in results:\n",
    "\t\t\tprint(row)\n",
    "\t\t\n",
    "\t\tretrieved_ids_no_index = [row[0] for row in results]"
   ]
  },
  {
   "cell_type": "code",
   "execution_count": 15,
   "metadata": {},
   "outputs": [
    {
     "data": {
      "text/plain": [
       "{2459519,\n",
       " 3666970,\n",
       " 3811828,\n",
       " 3994601,\n",
       " 3994634,\n",
       " 4701205,\n",
       " 4825073,\n",
       " 7011773,\n",
       " 7064681,\n",
       " 7411863}"
      ]
     },
     "execution_count": 15,
     "metadata": {},
     "output_type": "execute_result"
    }
   ],
   "source": [
    "set(retrieved_ids_no_index)"
   ]
  },
  {
   "cell_type": "markdown",
   "metadata": {},
   "source": [
    "## Vector Search with filters - Using HNSW index"
   ]
  },
  {
   "cell_type": "code",
   "execution_count": 24,
   "metadata": {},
   "outputs": [
    {
     "name": "stdout",
     "output_type": "stream",
     "text": [
      "========== Explanation of the query ==========\n",
      "('Limit  (cost=10000000128.48..10000040247.51 rows=466 width=1120) (actual time=75.443..75.971 rows=1 loops=1)',)\n",
      "('  ->  Nested Loop  (cost=10000000128.48..10000040247.51 rows=466 width=1120) (actual time=75.442..75.968 rows=1 loops=1)',)\n",
      "('        Join Filter: (l.listing_id = c.listing_id)',)\n",
      "('        Rows Removed by Join Filter: 10009',)\n",
      "('        ->  Index Scan using listing_cosine_hnsw on listings_hnsw l  (cost=128.48..1202.72 rows=2224 width=1125) (actual time=6.520..7.140 rows=1001 loops=1)',)\n",
      "(\"              Order By: (description_vector <=> '[0.0068256045,0.00038570366,0.06252902,0.04077353,-0.022247748,-0.062144816,-0.016676806,0.017697345,0.020086607,0.022007622,0.022055646,-0.0027749653,-0.01312293,0.025549492,-0.04363104,-0.013759266,0.004649455,0.0038090113,0.057678457,0.007443931,0.019342214,-0.022764022,-0.04579218,-0.044399444,0.0075399815,0.00037294693,-0.053068023,-0.019330207,0.042262316,-0.0077380864,0.008158308,-0.039356783,0.026485987,0.006357357,0.029079355,0.0030075882,-0.0033077467,-0.0051116995,-0.0038360257,0.009418974,-0.035706855,0.014191494,0.032753296,0.027038278,-0.013339044,0.048673704,0.013182961,-0.011351994,-0.020494822,0.018885974,0.011958315,-0.028022798,-0.017277123,-0.05974355,-0.00087946444,0.009821186,0.017073015,0.010193382,0.026221847,0.025813632,-0.016868908,-0.033257563,0.023436375,0.036883477,-0.028503051,0.040989645,-0.04031729,-0.016952952,-0.027998785,0.031456612,-0.009028768,0.023820579,-0.002429783,0.0231002,0.006765573,-0.02768662,-0.03870844,-0.00081417995,0.005237766,-0.0042712553,-0.02768662,-0.0016448686,-0.019066067,-0.04238238,-0.045648105,-0.020855013,0.019042056,-0.008002225,-0.041013658,0.0025633536,0.03592297,0.0045383964,-0.06910849,-0.0017229099,-0.018958012,0.006018178,-0.02342437,-0.032465145,0.0034098006,-0.017133048,-0.007984216,-0.087021954,-0.024504941,0.00020598377,-0.00636336,0.0008629557,-0.005525918,0.028983304,0.02922343,-0.022163704,-0.066515125,-0.0032207007,-0.018645845,0.013254999,-0.016604768,0.0014587704,0.0068316073,0.0034007959,-0.017036997,-0.023244275,-0.041998178,0.03126451,0.00087045965,-0.055949546,0.038756467,0.031744763,-0.020422785,-0.038204174,-0.029895786,-0.00736589,-0.04274257,0.0002579487,0.042142253,-0.034554247,-0.057390306,0.0017619304,-0.0070056994,-0.032128967,0.0083324,0.013182961,0.08855876,0.0067175473,-0.035995007,0.0038030082,-0.0126907015,-0.006933661,0.023592459,-0.017085021,0.038900543,-0.0032537181,0.024516946,0.009479006,-0.0036079052,0.022295773,0.011370004,-0.013507132,0.04776122,-0.022872077,-0.05897514,0.018657852,-0.047641158,-0.0658908,0.023952648,0.027254391,0.009154835,0.042430405,0.0083864285,-0.014047418,-0.057294253,0.06137641,0.0021281238,-0.022427844,-0.019678392,0.030135913,0.032032914,0.009454993,0.039740987,0.0058831065,-0.0047905296,-0.0046974807,0.0043342886,-0.021743482,-0.023808572,0.033785842,-0.007600013,0.025189301,0.009112813,0.01643668,-0.04050939,0.055517316,-0.023736535,-0.051627263,0.01509197,0.01728913,0.000607821,-0.021227209,-0.009605072,-0.012630669,-0.025861656,-0.044471484,-0.040821556,-0.03388189,0.016556744,0.0029025327,0.019150112,-0.041085694,-0.040365316,-0.0031006373,0.027518531,-0.06728353,-0.023208255,0.018441739,0.020050587,0.024228795,-0.008746618,-0.03765188,0.06781181,-0.022295773,0.013411082,0.019402245,-0.007203804,-0.006429395,0.03858838,0.017373174,-0.007299855,0.044567533,0.026365923,-0.0036979527,0.037555832,0.024480928,-0.034098007,0.033641767,-0.03429011,0.00021667691,-0.005342821,0.06459411,0.021635424,-0.048529625,-0.041109707,-0.0075760004,-0.019954538,-0.0018234629,-0.052203566,-0.005853091,0.00019735421,-0.008068261,-0.008914707,0.00058605947,0.03700354,-0.034818385,0.0070477217,0.044039257,-0.0065794745,0.016376648,0.03827621,0.009695119,-0.020903038,0.029415533,-0.008590536,0.021767495,0.02047081,0.019834474,0.008158308,-0.037916023,0.006111227,-0.04264652,-0.0051177023,0.026894202,-0.04533594,0.020134632,-0.05431668,-0.024853123,-0.024192775,-0.036403224,0.02939152,0.020446798,-0.019462278,-0.014095443,0.006321338,-0.012216451,-0.00193152,-0.042670533,0.042094227,-0.0048715724,0.04346295,0.077368855,-0.03047209,-0.025741594,-0.033449665,0.04202219,-0.0100433035,-0.0026789147,-0.030304002,-0.044303395,-0.008752622,0.0014557687,0.001772436,-0.05234764,0.0600317,0.014143469,0.034170043,0.064738184,-0.07453536,-0.05974355,-0.019606354,0.0077741053,0.019738423,-0.002719436,-0.015608242,0.02283606,-0.024540959,-0.0139273545,-0.051627263,-0.07674453,-0.0018414725,-0.0077200765,0.009418974,0.01039749,0.036883477,-0.014371589,0.008992748,0.014623722,-0.013315031,-0.014191494,-0.0029415532,-0.024709048,0.009160837,-0.0036199116,0.032225017,0.023988668,-0.030135913,0.027110316,0.027518531,0.017493237,0.0109377755,-0.058638964,-0.05787056,0.0011728693,-0.027494518,0.00021761491,-0.02759057,-0.06396978,-0.021371284,0.029535597,-0.031576674,-0.011940305,0.018549796,0.0059851604,0.01166416,0.05931132,-0.0010580587,-0.04701683,0.0035088528,0.009617078,0.0062613063,0.011622137,0.04874574,0.027278405,-0.019462278,0.052443694,0.02562153,0.042214293,-0.042214293,-0.006699538,0.020206671,-0.023472395,-0.010205389,-0.017601294,0.006453408,0.039140668,-0.03851634,-0.0076420354,0.026822165,0.046008296,0.007419918,0.09004755,0.0008959731,0.009827189,0.014119456,-0.025477454,0.025381403,0.0040551415,-0.021491349,-0.00043297865,0.011069845,0.0008599541,-0.006375367,-0.031120434,-0.05186739,-0.024661023,-0.022091666,-0.039668947,-0.0155842295,-0.016976966,-0.00674156,0.009755151,0.027614582,-0.0386364,-0.04687275,-0.0042112237,0.0017304138,-0.019918518,0.03671539,-0.029079355,-0.049322046,-0.034266096,-0.018657852,0.0125946505,-0.015115982,-0.055709418,-0.0053788405,-0.011412026,0.044951737,0.035514753,-0.045984283,0.01335105,0.02260794,0.020446798,0.0037009544,-0.006357357,0.030063875,0.029559609,-0.045095813,-0.018081548,-0.033257563,0.01130397,0.03726768,-0.025573505,-0.0666592,0.0013897339,0.027518531,0.010289433,-0.03719564,0.044231355,0.00736589,-0.023688508,-0.020782975,0.014035411,-0.03510654,-0.049946375,-0.007918181,-0.030976357,-0.0014054922,0.037243668,-0.052923948,-0.028407,0.04956217,0.03573087,-0.039212707,0.016424673,-0.00821834,0.037579846,0.015596236,-0.01810556,0.020806987,0.017637314,0.050762806,0.02948757,0.008074264,0.017949479,0.07112556,-0.004919598,0.035946984,-0.042166267,0.07482351,0.0104815345,-0.024805099,0.025813632,-0.016064484,-0.07232619,0.010595595,-0.018393712,0.024877137,0.008440457,-0.018381707,-0.05849489,0.0034818386,-0.012180432,0.0077921147,-0.03565883,-0.07636032,0.034242082,0.004586422,0.021875551,0.038300224,0.0005785555,0.05071478,-0.016424673,-0.07232619,-0.013495126,-0.013002866,0.03044808,-0.0008059256,-0.011670163,-0.035418704,-0.0075039626,0.007341877,-0.006054197,0.06584277,0.029055344,0.013495126,-0.07189397,-0.010115341,0.0215874,-0.0065794745,0.04084557,-0.044543523,-0.021071127,-0.015152001,-0.0002808358,-0.0051837373,0.01594442,0.007828134,-0.0037339719,-0.016112508,-0.017109035,-0.00049150956,0.01308691,-0.051387135,0.0023232268,0.025261339,0.032681257,0.02490115,-0.012126404,0.0014017402,-0.009647095,-0.029799737,-0.06670722,-0.013987387,-0.007996223,-0.044375435,0.003688948,-0.03457826,0.004919598,0.0126907015,-0.016880915,-0.0088066505,0.0183697,-0.003610907,-0.021167178,0.013134936,-0.026774138,0.0028815216,0.0016088496,-0.046512563,-0.005772048,0.022848066,0.03054413,-0.010583589,0.008626555,0.021335267,0.05484496,-0.015752317,0.014851843,0.0074619404,0.02831095,0.01981046,-0.016832888,0.014263532,0.015188021,-0.011159893,-0.004352298,0.016820883,0.007485953,-0.01787744,0.01853779,0.020542847,-0.01039749,0.017589288,-0.008032242,-0.021227209,0.009893225,-0.023220262,-0.0070357155,-0.03601902,-0.00026807905,-0.032393105,-0.02624586,0.036571313,-0.00060632016,-0.017673332,-0.0068316073,0.028599102,0.010625611,-0.013411082,-0.0038240193,-0.013987387,0.0002179901,-0.004916596,-0.020398771,-0.016556744,-0.011406023,-0.02463701,-0.038732454,-0.026101783,0.03395393,-0.026221847,-0.021131158,-0.0600317,-0.011045833,-0.031744763,-0.025933694,0.024216788,-0.012978854,-0.036427237,0.018153585,-0.06459411,-0.05518114,0.0021401301,-0.007419918,-0.019546323,-0.0052917944,0.019954538,-0.017685339,-0.042838622,-0.022259755,-0.086109474,0.01164615,0.014119456,-0.001160863,0.02289609,0.0097011225,0.020458804,0.031192472,-0.0095870625,-0.032633234,0.036931504,-0.01886196,-0.0027674614,-0.023148224,0.02378456,0.028959293,0.0031936865,-0.0023277292,-0.008266365,-0.012846784,0.010835722,0.028551077,-0.0030105899,0.014755792,-0.027254391,-0.0020170652,0.012966847,-0.049225993,-0.003493845,0.0042202286,-0.009178847,0.020362753,-0.0004213475,-0.00509369,-0.03664335,-0.0062252874,0.035058513,-0.031216484,-0.020650905,0.02030272,-0.03188884,-0.029583622,0.022547906,0.057390306,0.0064113857,0.029799737,-0.03429011,-0.039933085,0.017529257,0.017613301,0.009400965,-0.015608242,-0.042622507,-0.03244113,0.031696737,0.036115073,0.034434184,-0.014611715,0.01643668,-0.012714714,0.038132135,0.014659741,-0.06094418,0.03368979,-0.007888165,0.034554247,-0.046800714,0.0027224377,0.00047199926,-0.006105224,0.016604768,0.0027614583,-0.016460693,0.02713433,-0.014683754,0.031528648,-0.0154881785,0.03100037,0.032056928,0.037747934,0.0028515058,-0.04917797,0.018033523,-0.06348953,-0.006465414,0.002618883,0.025213314,-0.030952346,0.02509325,-0.021743482,-0.004520387,-0.036355197,0.0018174597,-0.042694546,0.024252808,-0.028527064,0.0025588511,-0.014983912,0.021947589,-0.023928637,0.016592762,0.029367508,0.013447101,0.025765605,0.025573505,-0.014215507,0.013891336,0.0022616943,-0.015824357,0.039476845,0.04281461,-0.018513776,-0.01804553,0.00539685,0.018717885,-0.026822165,-0.016544737,0.02316023,-0.0068256045,0.030688206,-0.054604836,-0.0057330276,-0.019942531,-0.03618711,0.01581235,0.0044093286,0.035082527,0.0046824724,0.013735253,-0.004295268,0.018033523,-0.01600445,-0.056814,0.00075752503,0.028695153,0.00808627,-0.0014677751,0.0042802603,-0.047256954,-0.019414252,-0.012288489,-0.018297663,0.040269263,0.01679687,0.01715706,-0.014395602,0.011003811,-0.039260734,0.044591546,-0.024853123,-0.01102182,-0.004832552,0.0035358672,0.022151697,-0.00035324905,-0.043294862,-0.026654076,-0.008896698,0.023280293,-0.042166267,-0.022487875,0.014287544,-0.007095747,0.00079016725,-0.013254999,-0.011724191,0.008398435,-0.019198138,-0.029847762,0.0019780446,0.0367394,0.008290377,0.0320089,-0.019174125,-0.019462278,-0.049418095,-0.0033227545,-0.030255977,0.0040041143,0.018441739,-0.006153249,0.0017109035,0.005901116,0.03073623,0.02490115,-0.021047113,0.015428147,-0.010061313,0.009016762,0.013026879,-0.017109035,0.0033827864,-0.0028665138,0.03412202,0.002755455,0.005441874,-0.014671748,-0.019570334,-0.025669554,0.018033523,0.0013529644,0.020278709,0.01312293,0.0019135105,0.0049646217,0.020542847,0.01886196,-0.003622913,-0.011538093,0.01643668,-0.028527064,0.0027029272,0.017889448,-0.018033523,-0.008974739,0.0029910796,-0.003884051,0.0070357155,0.0076060165,0.00893872,0.0029355502,0.013951367,-0.012714714,0.021779502,0.047545105,0.015392128,-0.017097028,0.013783279,-0.04379913,-0.05796661,-0.005351826,-0.02732643,-0.03179279,0.025693567,0.0035208592,0.020506829,0.023076186,-0.024300832,0.019906512,-0.031912852,-0.0037699908,-0.013543151,0.01532009,-0.04927402,-0.010817712,-0.012750734,-0.006255303,-0.0011240935,-0.009094803,0.019438265,0.005931132,0.0069276583,0.017757377,-0.017433206,-0.043054737,0.00734788,-0.03414603,-0.00091248186,0.013495126,0.0052677817,-0.0024402887,0.03457826,-0.01361519,0.005114701,0.026101783,-0.015620248,0.015272065,0.023760548,0.018297663,-0.005895113,-0.032273043,0.029679673,0.0012036356,0.00048513117,0.0282149,0.017601294,0.043078747,-0.01853779,-0.025525479,0.036403224,0.01978645,0.017469225,0.008062257,-0.009274898,-0.0071497755,-0.013062898,-0.05546929,0.0012966847,0.0062312903,0.004592425,-0.034842398,0.011724191,-0.026269872,-0.003232707,-0.020578867,0.013855317,-0.015067956,0.008128292,-0.0029910796,0.04091761,-0.013050891,0.017109035,0.00070424686,0.015920406,-0.0033677784,0.023580452,0.024468921,0.000598441,0.0071617817,-0.029535597,0.01410745,0.017817408,0.041662,0.0035838925,-0.0013169454,0.04756912,0.01853779,0.028094836,0.065602645,-5.7827412e-05,0.03299342,-0.0006941165,-0.003962092,0.012774746,-0.0094730025,-0.003935078,0.027110316,-0.032561194,0.023940641,0.026630063,0.013134936,-0.0029190416,-0.026918214,-0.012462581,-0.0076360325,0.009845199,0.019894505,-0.016556744,-0.018777916,0.010313446,-0.004520387,-0.017997503,0.049610198,-0.012426562,-0.015704293,0.047881283,0.015560217,0.015464166,-0.010211392,0.0061172303,0.03962092,-0.005408856,0.017565276,0.0431748,-0.03330559,0.031504635,-0.048025362,0.031480625,-0.017133048,0.02617382,-0.014035411,0.024480928,-0.005033658,-0.020422785,0.008548514,0.05705413,0.0058050654,0.0050606723,-0.026269872,0.0034037975,0.01371124,0.008080267,0.024120737,-0.015620248,-0.014479646,0.03834825,0.026221847,0.026534012,-0.0044603553,0.032585207,-0.017793396,0.0075820037,0.0021386293,0.050570704,0.02283606,-0.017757377,-0.035538767,0.0070056994,-0.043150786,0.00452639,0.0073838993,0.027758658,-0.048673704,-0.017409192,-0.02079498,-0.0020200668,0.031192472,-0.009479006,-0.018897979,0.0055139116,-0.009803177,0.0063393475,-0.0024072712,-0.011868267,-0.0077620987,-0.02352042,0.0041481904,-0.0011518582,-0.0040221238,-0.018573808,0.025477454,-0.009274898,0.03592297,-0.0073058577,0.025189301,0.021839533,0.0057480354,0.027398469,0.020410778,0.013663215,-0.0043372903,-0.0006595983,-0.0067835823,0.0042652525,-0.033785842,-0.021047113,0.01166416,0.0018669859,-0.03969296,0.034098007,-0.014287544,-0.02939152,0.00020579617,0.028623115,-0.022559913,0.011225928,-0.020662911,0.005345823,0.006603487,-0.002609878,0.007756096,0.0034128022,-0.024336852,0.0030691207,0.013759266,0.04543199,-0.02463701,-0.02939152,0.025309365,0.013110924,-0.010667633,0.041613974,-0.011580115,0.027998785,0.022163704,0.0027179352,0.03421807,0.019366227,0.016592762,-0.009527031,0.027854709,0.0032927387,-0.009941249,0.059791572,-0.026317898,0.0048925835,-0.019942531,-0.01604047,0.009154835,-0.007588007,0.011922296,-0.015368115,-0.037867997,0.01833368,-0.0036919496,-0.028839229,-0.016340628,0.010703652,0.025213314,-0.029271457,0.025909683,0.008986746,-0.0039170682,0.028551077,-0.0028770193,0.035538767,-0.019366227,0.0073718927,-0.00046637128,0.029895786,0.0061892685,0.02132326,-0.027374456,-0.0021731476,0.009599069,-0.01272672,0.016160535,-0.034170043,-0.020350747,0.0065794745,-0.01882594,-0.028599102,-0.00823635,0.021779502,-0.0060211797,0.0009665104,0.0076840576,-0.0061832652,0.007954201,0.008032242,-0.008872685,-0.015572223,0.011838252,0.015752317,0.019390238,-0.007924184,-0.054124583,-0.034194056,-0.0148038175,0.0047485074,0.039356783,-0.018177599,-0.007852146,0.0049886345,0.014083437,-0.032825332,0.0056159655,-0.029127382,0.008074264,0.029007317,0.0039560893,0.0768886,0.021443324,-0.0033887895,-0.012210448,-0.00036619336,-0.012306498,0.02001457,0.005982159,0.0037069574,0.049322046,-0.00736589,-0.053980503,-0.012012343,-0.023568446,-0.0028920271,-0.008566524,0.03726768,-0.011460052,0.008950726,-0.010439512,0.017973492,-0.015139995,0.015428147,-0.03630717,-0.011454049,-0.003160669,-0.010499544,0.012114397,0.011832248,0.02191157,-0.0073298705,0.010385484,-0.00810428,0.006789585,0.01568028,-0.012426562,0.0031366562,0.019042056,-0.008182321,-0.0021596404,0.003544872,0.025189301,0.0052827895,-0.022715995,0.028527064,0.02302816,-0.0064834235,0.012522613,0.030856295,-0.014659741,0.01909008,0.033257563,0.024661023,-0.012162423,0.023220262,0.011201915,-0.027470507,-0.010841725,0.034626286,-0.012678695,-0.036979526,-0.01335105,0.0016328623,0.00446936,0.034626286,-0.0034698322,-0.042502444,0.012114397,0.00016246078,-0.011448045,-0.005216755,0.016148528,0.026461974,0.00052340137,0.037483793,-0.02283606,0.00023281045,0.05205949,-0.011111868,-0.006849617,-0.009887221,-0.014503659,0.03923672,0.008854676,0.019114094,-0.0024222792,-0.009088799,-0.009707126,0.047737207,0.02119119,-0.009310917,0.0076720514,0.02723038,0.005736029,-0.0064474046,0.00183697,-0.0333296,-0.01751725,-0.026101783,-0.020026576,0.03155266,-0.0073178643,-0.03630717,0.016880915,0.02316023,-0.011976324,0.016184546,0.009773161,0.02213969,0.0067595695,-0.017613301,-0.009959259,0.015260058,-0.03253718,-0.03609106,-0.0057840543,-0.017445212,-0.015500185,0.044639573,0.019762436,-0.0054268655,0.024733061,0.03090432,-0.022499882,0.048265487,-0.001649371,0.037771948,0.048889816,-0.007389902,0.005363832,-0.001530058,-0.0028560082,0.0006280817,0.020542847,-0.025429428,0.022920104,-0.018405719,-0.013206974,0.025837643,-0.01827365,0.008278372,0.017625308,-0.0052977977,-0.010445516,-0.021071127,-0.0083864285,0.0037940035,-0.0063153347,0.003884051,0.02831095,-0.024709048,0.046920776,-0.015103976,-0.03798806,0.0267021,0.03433813,0.024072712,-0.035874944,-0.042790595,-0.016964959,-0.014527672,0.0072818454,-0.011081852,0.0108237155,0.035634816,-0.013495126,-0.005366834,0.015548211,0.005988162,0.016508717,0.019462278,0.024685035,-0.024805099,-0.009851202,-0.014443628,0.026005732,-0.044063266,0.010835722,-0.014155475,0.0018174597,0.003992108,-0.005766045,-0.023988668,0.02119119,0.048145425,0.036403224,0.025957707,-0.0026579036,-0.0050216517,0.018261643,-0.016052477,-0.0009492513,-0.0023232268,0.008668577,-0.01469576,-0.050282553,0.008320394,0.018153585,0.0024612998,-0.001164615,-0.026654076,0.03155266,0.025933694,0.00091548346,-0.021767495,-0.0028680144,-0.005973154,0.022187717,-0.015404134,0.013999392,0.005778051,-0.027278405,0.019858487,-0.019378234,-0.003052612,-0.007966206,0.012378537,0.016016457,-0.014659741,0.034025967,-0.02266797,-0.050570704,-0.015524197,-0.00916684,-0.058014635,-0.0005050167,0.07458338,-0.021395298,0.006675525,0.0071077533,0.014287544,-0.014155475,0.023760548,-0.026029745,-0.0016313614,-0.015992446,0.021827526,-0.015067956,-0.012234461,0.00011706181,0.022776026,-0.024853123,0.0042262315,-0.004205221,-0.04084557,-0.028382989,-0.0027719638,0.01357917,0.010577586,-0.012414556,-0.017277123,0.03335361,-0.009689117,-0.022679977,0.0020560857,-0.029535597,0.038684428,-0.026317898,0.014647735,-0.01348312,0.0041271793,-0.020422785,0.015596236,0.01755327,-0.01643668,-0.006849617,0.01384331,-0.004973626,-0.022740008,0.0044303397,-0.02732643,0.016328622,0.017589288,-0.017169066,-0.022944115,-0.02588567,0.011009814,0.027038278,0.003043607,-0.0053998516,-0.020758962,0.0044243364,0.008242353,-0.04951415,0.018189605,0.016412666,0.017337155,0.020050587,0.017949479,-0.0061232336,-0.007059728,0.002393764,-0.031480625,0.0063453508,0.0068316073,-0.00992324,0.017012984,-0.012822771,0.009268895,-0.0019300191,0.027494518,-0.006957674,-0.019330207,0.035130553,0.015200026,0.018465752,0.010457522,1.13966435e-05,-0.0032657245,-0.001924016,0.0068976423,-0.008866682,0.006669522,-0.006243297,-0.030376041,-0.014539678,0.010463526,0.011117871,0.0038000066,0.056814,-0.0052407673,-0.02109514,0.01090776,0.0075039626,-0.021935584,-0.05350025,-0.016148528,-0.0102714235,-0.0033107484,0.031816803,0.03136056,0.03306546,0.008284375,-0.03842029,0.024180768,-0.005258777,-0.019042056,0.020662911,0.013315031,-0.023040166,0.04031729,0.017913459,-0.006543455,-0.0015788337,0.008452463,0.0039650938,0.018970018,0.023196248,0.01751725,0.021419311,0.03044808,0.008530505,-0.0008276871,-0.034170043,-0.055517316,0.0054658866,0.020831,-0.006069205,0.023940641,-0.01473178,0.020855013,-0.009088799,-0.02922343,-0.009292907,0.014539678,-0.016580755,-0.037795957,0.003349769,-0.0134711135,0.051387135,-0.019210145,0.03289737,-0.025813632,-0.0032237023,-0.006255303,0.00026545266,0.00956305,0.021011095,-0.014227513,0.009653097,0.0029820746,0.0026519003,-0.016556744,0.008206333,-0.010007285,0.0023307307,0.009466999,0.025213314,-0.011003811]'::vector)\",)\n",
      "('        ->  Materialize  (cost=10000000000.00..10000021264.08 rows=533 width=9) (actual time=0.002..0.068 rows=10 loops=1001)',)\n",
      "('              ->  Seq Scan on calendar c  (cost=10000000000.00..10000021261.41 rows=533 width=9) (actual time=1.474..67.889 rows=10 loops=1)',)\n",
      "(\"                    Filter: ((price < '30'::numeric) AND (date = '2017-01-02'::date) AND ((available)::text = 't'::text))\",)\n",
      "('                    Rows Removed by Filter: 928185',)\n",
      "('Planning Time: 1.031 ms',)\n",
      "('Execution Time: 76.270 ms',)\n",
      "========== Rows from Database ==========\n",
      "(7064681, Decimal('25.00'), 'Tent Crash Pad', 'For those low budget travelers that need just a place to sleep, shower, and a toilet then you found it.  This listing is for me providing a two person tent, sleeping pads, and sleeping bags. I also have a three person tent available. Min 2 night stay We have space in our back yard for a couple of tents. This listing is for a two person tent, sleeping pads, and bags. I also have a three person tent but it is a bit snug and there is an additional fee for the extra person. Our neighbor does have a dog so we ask you to keep the noise down to help prevent the dog from barking.  NO SMOKING OR SMOKERS.  I will discount the price by $10 if you bring your own gear. As a tent guest you will have access to a toilet at anytime. Access to a shower is limited from 10am to 9pm. My schedule is crazy but since you will be staying outside then the tent will be ready for you prior to your arrival. Then we can meet later in the day to go through bathroom access inside the house. We live a nice quite and s', 'For those low budget travelers that need just a place to sleep, shower, and a toilet then you found it.  This listing is for me providing a two person tent, sleeping pads, and sleeping bags. I also have a three person tent available. Min 2 night stay')\n"
     ]
    }
   ],
   "source": [
    "sql_query = \"\"\"\n",
    "\tWITH listing_cte AS\n",
    "\t(\n",
    "\t\tSELECT l.listing_id, c.price, name, summary, description, description_vector\n",
    "\t\tFROM listings_hnsw l \n",
    "\t\tINNER JOIN calendar c ON l.listing_id = c.listing_id \n",
    "\t\tWHERE c.date = '2017-01-02' AND c.available = 't' AND c.price < 30\n",
    "\t)\n",
    "\tSELECT l.listing_id, l.price, name, summary, description\n",
    "\tFROM listing_cte l\n",
    "\tORDER BY description_vector <=> %s::vector\n",
    "\tLIMIT 1000; -- Brute force at around 200\n",
    "\"\"\"\n",
    "# Establish a connection to the PostgreSQL database\n",
    "with psycopg.connect(CONN_STR) as conn:\n",
    "\twith conn.cursor() as cur:\n",
    "\t\t# Execute the SQL query\n",
    "\t\temb = embedding_query(DEFAULT_SEARCH_QUERY)\n",
    "\n",
    "\t\tprint(\"=\"*10, \"Explanation of the query\", \"=\"*10)\n",
    "\t\t\n",
    "\t\texplain = \"explain analyze\"\n",
    "\t\toff_scan = \"SET LOCAL enable_seqscan TO OFF;\"\n",
    "\t\tef_search = \"SET LOCAL hnsw.ef_search = 1000;\" #Max is 1000 https://jkatz05.com/post/postgres/pgvector-overview-0.5.0/ \n",
    "\n",
    "\t\tcur.execute(off_scan)\n",
    "\t\tcur.execute(ef_search)\n",
    "\t\tcur.execute(explain+sql_query, (emb,))\n",
    "\t\t\n",
    "\t\t# Fetch the results\n",
    "\t\tresults = cur.fetchall()\n",
    "\t\t\n",
    "\t\t# Print the results\n",
    "\t\tfor row in results:\n",
    "\t\t\tprint(row)\n",
    "\t\tprint(\"=\"*10, \"Rows from Database\", \"=\"*10)\n",
    "\n",
    "\n",
    "\t\t# Fetch the non explained results\n",
    "\t\tcur.execute(sql_query, (emb,))\n",
    "\t\tresults = cur.fetchall()\n",
    "\t\t\n",
    "\t\t# Print the results\n",
    "\t\tfor row in results:\n",
    "\t\t\tprint(row)\n",
    "\t\t\n",
    "\t\tretrieved_hnsw_ids = [row[0] for row in results]"
   ]
  },
  {
   "cell_type": "code",
   "execution_count": 18,
   "metadata": {},
   "outputs": [
    {
     "data": {
      "text/plain": [
       "{7064681}"
      ]
     },
     "execution_count": 18,
     "metadata": {},
     "output_type": "execute_result"
    }
   ],
   "source": [
    "set(retrieved_hnsw_ids)"
   ]
  },
  {
   "cell_type": "markdown",
   "metadata": {},
   "source": [
    "## Recall for HNSW vs No Index\n",
    "Both for HNSW with no metadata filter and with metadata filter. Recall is the same because the HNSW index can only retrieve max 1000 entries. In the max 1000 entries, their is only 1 result that satisfies the filter. However this table has 2000+ rows, the other 4 are not top 1000 in the relevency results"
   ]
  },
  {
   "cell_type": "code",
   "execution_count": 19,
   "metadata": {},
   "outputs": [
    {
     "data": {
      "text/plain": [
       "0.1"
      ]
     },
     "execution_count": 19,
     "metadata": {},
     "output_type": "execute_result"
    }
   ],
   "source": [
    "len(set(retrieved_hnsw_ids).intersection(set(retrieved_ids_no_index))) / len(set(retrieved_ids_no_index))"
   ]
  },
  {
   "cell_type": "markdown",
   "metadata": {},
   "source": [
    "## Vector Search with filters - Using DiskANN index"
   ]
  },
  {
   "cell_type": "markdown",
   "metadata": {},
   "source": [
    "With iterator"
   ]
  },
  {
   "cell_type": "code",
   "execution_count": 21,
   "metadata": {},
   "outputs": [
    {
     "name": "stdout",
     "output_type": "stream",
     "text": [
      "========== Explanation of the query ==========\n",
      "('Limit  (cost=10000000479.20..10000001332.44 rows=10 width=1175) (actual time=72.520..75.263 rows=10 loops=1)',)\n",
      "('  ->  Nested Loop  (cost=10000000479.20..10000040240.23 rows=466 width=1175) (actual time=72.519..75.260 rows=10 loops=1)',)\n",
      "('        Join Filter: (l.listing_id = c.listing_id)',)\n",
      "('        Rows Removed by Join Filter: 20876',)\n",
      "('        ->  Index Scan using listing_cosine_diskann on listings_diskann l  (cost=479.20..1195.44 rows=2224 width=1185) (actual time=1.389..4.485 rows=2089 loops=1)',)\n",
      "(\"              Order By: (description_vector <=> '[0.0068256045,0.00038570366,0.06252902,0.04077353,-0.022247748,-0.062144816,-0.016676806,0.017697345,0.020086607,0.022007622,0.022055646,-0.0027749653,-0.01312293,0.025549492,-0.04363104,-0.013759266,0.004649455,0.0038090113,0.057678457,0.007443931,0.019342214,-0.022764022,-0.04579218,-0.044399444,0.0075399815,0.00037294693,-0.053068023,-0.019330207,0.042262316,-0.0077380864,0.008158308,-0.039356783,0.026485987,0.006357357,0.029079355,0.0030075882,-0.0033077467,-0.0051116995,-0.0038360257,0.009418974,-0.035706855,0.014191494,0.032753296,0.027038278,-0.013339044,0.048673704,0.013182961,-0.011351994,-0.020494822,0.018885974,0.011958315,-0.028022798,-0.017277123,-0.05974355,-0.00087946444,0.009821186,0.017073015,0.010193382,0.026221847,0.025813632,-0.016868908,-0.033257563,0.023436375,0.036883477,-0.028503051,0.040989645,-0.04031729,-0.016952952,-0.027998785,0.031456612,-0.009028768,0.023820579,-0.002429783,0.0231002,0.006765573,-0.02768662,-0.03870844,-0.00081417995,0.005237766,-0.0042712553,-0.02768662,-0.0016448686,-0.019066067,-0.04238238,-0.045648105,-0.020855013,0.019042056,-0.008002225,-0.041013658,0.0025633536,0.03592297,0.0045383964,-0.06910849,-0.0017229099,-0.018958012,0.006018178,-0.02342437,-0.032465145,0.0034098006,-0.017133048,-0.007984216,-0.087021954,-0.024504941,0.00020598377,-0.00636336,0.0008629557,-0.005525918,0.028983304,0.02922343,-0.022163704,-0.066515125,-0.0032207007,-0.018645845,0.013254999,-0.016604768,0.0014587704,0.0068316073,0.0034007959,-0.017036997,-0.023244275,-0.041998178,0.03126451,0.00087045965,-0.055949546,0.038756467,0.031744763,-0.020422785,-0.038204174,-0.029895786,-0.00736589,-0.04274257,0.0002579487,0.042142253,-0.034554247,-0.057390306,0.0017619304,-0.0070056994,-0.032128967,0.0083324,0.013182961,0.08855876,0.0067175473,-0.035995007,0.0038030082,-0.0126907015,-0.006933661,0.023592459,-0.017085021,0.038900543,-0.0032537181,0.024516946,0.009479006,-0.0036079052,0.022295773,0.011370004,-0.013507132,0.04776122,-0.022872077,-0.05897514,0.018657852,-0.047641158,-0.0658908,0.023952648,0.027254391,0.009154835,0.042430405,0.0083864285,-0.014047418,-0.057294253,0.06137641,0.0021281238,-0.022427844,-0.019678392,0.030135913,0.032032914,0.009454993,0.039740987,0.0058831065,-0.0047905296,-0.0046974807,0.0043342886,-0.021743482,-0.023808572,0.033785842,-0.007600013,0.025189301,0.009112813,0.01643668,-0.04050939,0.055517316,-0.023736535,-0.051627263,0.01509197,0.01728913,0.000607821,-0.021227209,-0.009605072,-0.012630669,-0.025861656,-0.044471484,-0.040821556,-0.03388189,0.016556744,0.0029025327,0.019150112,-0.041085694,-0.040365316,-0.0031006373,0.027518531,-0.06728353,-0.023208255,0.018441739,0.020050587,0.024228795,-0.008746618,-0.03765188,0.06781181,-0.022295773,0.013411082,0.019402245,-0.007203804,-0.006429395,0.03858838,0.017373174,-0.007299855,0.044567533,0.026365923,-0.0036979527,0.037555832,0.024480928,-0.034098007,0.033641767,-0.03429011,0.00021667691,-0.005342821,0.06459411,0.021635424,-0.048529625,-0.041109707,-0.0075760004,-0.019954538,-0.0018234629,-0.052203566,-0.005853091,0.00019735421,-0.008068261,-0.008914707,0.00058605947,0.03700354,-0.034818385,0.0070477217,0.044039257,-0.0065794745,0.016376648,0.03827621,0.009695119,-0.020903038,0.029415533,-0.008590536,0.021767495,0.02047081,0.019834474,0.008158308,-0.037916023,0.006111227,-0.04264652,-0.0051177023,0.026894202,-0.04533594,0.020134632,-0.05431668,-0.024853123,-0.024192775,-0.036403224,0.02939152,0.020446798,-0.019462278,-0.014095443,0.006321338,-0.012216451,-0.00193152,-0.042670533,0.042094227,-0.0048715724,0.04346295,0.077368855,-0.03047209,-0.025741594,-0.033449665,0.04202219,-0.0100433035,-0.0026789147,-0.030304002,-0.044303395,-0.008752622,0.0014557687,0.001772436,-0.05234764,0.0600317,0.014143469,0.034170043,0.064738184,-0.07453536,-0.05974355,-0.019606354,0.0077741053,0.019738423,-0.002719436,-0.015608242,0.02283606,-0.024540959,-0.0139273545,-0.051627263,-0.07674453,-0.0018414725,-0.0077200765,0.009418974,0.01039749,0.036883477,-0.014371589,0.008992748,0.014623722,-0.013315031,-0.014191494,-0.0029415532,-0.024709048,0.009160837,-0.0036199116,0.032225017,0.023988668,-0.030135913,0.027110316,0.027518531,0.017493237,0.0109377755,-0.058638964,-0.05787056,0.0011728693,-0.027494518,0.00021761491,-0.02759057,-0.06396978,-0.021371284,0.029535597,-0.031576674,-0.011940305,0.018549796,0.0059851604,0.01166416,0.05931132,-0.0010580587,-0.04701683,0.0035088528,0.009617078,0.0062613063,0.011622137,0.04874574,0.027278405,-0.019462278,0.052443694,0.02562153,0.042214293,-0.042214293,-0.006699538,0.020206671,-0.023472395,-0.010205389,-0.017601294,0.006453408,0.039140668,-0.03851634,-0.0076420354,0.026822165,0.046008296,0.007419918,0.09004755,0.0008959731,0.009827189,0.014119456,-0.025477454,0.025381403,0.0040551415,-0.021491349,-0.00043297865,0.011069845,0.0008599541,-0.006375367,-0.031120434,-0.05186739,-0.024661023,-0.022091666,-0.039668947,-0.0155842295,-0.016976966,-0.00674156,0.009755151,0.027614582,-0.0386364,-0.04687275,-0.0042112237,0.0017304138,-0.019918518,0.03671539,-0.029079355,-0.049322046,-0.034266096,-0.018657852,0.0125946505,-0.015115982,-0.055709418,-0.0053788405,-0.011412026,0.044951737,0.035514753,-0.045984283,0.01335105,0.02260794,0.020446798,0.0037009544,-0.006357357,0.030063875,0.029559609,-0.045095813,-0.018081548,-0.033257563,0.01130397,0.03726768,-0.025573505,-0.0666592,0.0013897339,0.027518531,0.010289433,-0.03719564,0.044231355,0.00736589,-0.023688508,-0.020782975,0.014035411,-0.03510654,-0.049946375,-0.007918181,-0.030976357,-0.0014054922,0.037243668,-0.052923948,-0.028407,0.04956217,0.03573087,-0.039212707,0.016424673,-0.00821834,0.037579846,0.015596236,-0.01810556,0.020806987,0.017637314,0.050762806,0.02948757,0.008074264,0.017949479,0.07112556,-0.004919598,0.035946984,-0.042166267,0.07482351,0.0104815345,-0.024805099,0.025813632,-0.016064484,-0.07232619,0.010595595,-0.018393712,0.024877137,0.008440457,-0.018381707,-0.05849489,0.0034818386,-0.012180432,0.0077921147,-0.03565883,-0.07636032,0.034242082,0.004586422,0.021875551,0.038300224,0.0005785555,0.05071478,-0.016424673,-0.07232619,-0.013495126,-0.013002866,0.03044808,-0.0008059256,-0.011670163,-0.035418704,-0.0075039626,0.007341877,-0.006054197,0.06584277,0.029055344,0.013495126,-0.07189397,-0.010115341,0.0215874,-0.0065794745,0.04084557,-0.044543523,-0.021071127,-0.015152001,-0.0002808358,-0.0051837373,0.01594442,0.007828134,-0.0037339719,-0.016112508,-0.017109035,-0.00049150956,0.01308691,-0.051387135,0.0023232268,0.025261339,0.032681257,0.02490115,-0.012126404,0.0014017402,-0.009647095,-0.029799737,-0.06670722,-0.013987387,-0.007996223,-0.044375435,0.003688948,-0.03457826,0.004919598,0.0126907015,-0.016880915,-0.0088066505,0.0183697,-0.003610907,-0.021167178,0.013134936,-0.026774138,0.0028815216,0.0016088496,-0.046512563,-0.005772048,0.022848066,0.03054413,-0.010583589,0.008626555,0.021335267,0.05484496,-0.015752317,0.014851843,0.0074619404,0.02831095,0.01981046,-0.016832888,0.014263532,0.015188021,-0.011159893,-0.004352298,0.016820883,0.007485953,-0.01787744,0.01853779,0.020542847,-0.01039749,0.017589288,-0.008032242,-0.021227209,0.009893225,-0.023220262,-0.0070357155,-0.03601902,-0.00026807905,-0.032393105,-0.02624586,0.036571313,-0.00060632016,-0.017673332,-0.0068316073,0.028599102,0.010625611,-0.013411082,-0.0038240193,-0.013987387,0.0002179901,-0.004916596,-0.020398771,-0.016556744,-0.011406023,-0.02463701,-0.038732454,-0.026101783,0.03395393,-0.026221847,-0.021131158,-0.0600317,-0.011045833,-0.031744763,-0.025933694,0.024216788,-0.012978854,-0.036427237,0.018153585,-0.06459411,-0.05518114,0.0021401301,-0.007419918,-0.019546323,-0.0052917944,0.019954538,-0.017685339,-0.042838622,-0.022259755,-0.086109474,0.01164615,0.014119456,-0.001160863,0.02289609,0.0097011225,0.020458804,0.031192472,-0.0095870625,-0.032633234,0.036931504,-0.01886196,-0.0027674614,-0.023148224,0.02378456,0.028959293,0.0031936865,-0.0023277292,-0.008266365,-0.012846784,0.010835722,0.028551077,-0.0030105899,0.014755792,-0.027254391,-0.0020170652,0.012966847,-0.049225993,-0.003493845,0.0042202286,-0.009178847,0.020362753,-0.0004213475,-0.00509369,-0.03664335,-0.0062252874,0.035058513,-0.031216484,-0.020650905,0.02030272,-0.03188884,-0.029583622,0.022547906,0.057390306,0.0064113857,0.029799737,-0.03429011,-0.039933085,0.017529257,0.017613301,0.009400965,-0.015608242,-0.042622507,-0.03244113,0.031696737,0.036115073,0.034434184,-0.014611715,0.01643668,-0.012714714,0.038132135,0.014659741,-0.06094418,0.03368979,-0.007888165,0.034554247,-0.046800714,0.0027224377,0.00047199926,-0.006105224,0.016604768,0.0027614583,-0.016460693,0.02713433,-0.014683754,0.031528648,-0.0154881785,0.03100037,0.032056928,0.037747934,0.0028515058,-0.04917797,0.018033523,-0.06348953,-0.006465414,0.002618883,0.025213314,-0.030952346,0.02509325,-0.021743482,-0.004520387,-0.036355197,0.0018174597,-0.042694546,0.024252808,-0.028527064,0.0025588511,-0.014983912,0.021947589,-0.023928637,0.016592762,0.029367508,0.013447101,0.025765605,0.025573505,-0.014215507,0.013891336,0.0022616943,-0.015824357,0.039476845,0.04281461,-0.018513776,-0.01804553,0.00539685,0.018717885,-0.026822165,-0.016544737,0.02316023,-0.0068256045,0.030688206,-0.054604836,-0.0057330276,-0.019942531,-0.03618711,0.01581235,0.0044093286,0.035082527,0.0046824724,0.013735253,-0.004295268,0.018033523,-0.01600445,-0.056814,0.00075752503,0.028695153,0.00808627,-0.0014677751,0.0042802603,-0.047256954,-0.019414252,-0.012288489,-0.018297663,0.040269263,0.01679687,0.01715706,-0.014395602,0.011003811,-0.039260734,0.044591546,-0.024853123,-0.01102182,-0.004832552,0.0035358672,0.022151697,-0.00035324905,-0.043294862,-0.026654076,-0.008896698,0.023280293,-0.042166267,-0.022487875,0.014287544,-0.007095747,0.00079016725,-0.013254999,-0.011724191,0.008398435,-0.019198138,-0.029847762,0.0019780446,0.0367394,0.008290377,0.0320089,-0.019174125,-0.019462278,-0.049418095,-0.0033227545,-0.030255977,0.0040041143,0.018441739,-0.006153249,0.0017109035,0.005901116,0.03073623,0.02490115,-0.021047113,0.015428147,-0.010061313,0.009016762,0.013026879,-0.017109035,0.0033827864,-0.0028665138,0.03412202,0.002755455,0.005441874,-0.014671748,-0.019570334,-0.025669554,0.018033523,0.0013529644,0.020278709,0.01312293,0.0019135105,0.0049646217,0.020542847,0.01886196,-0.003622913,-0.011538093,0.01643668,-0.028527064,0.0027029272,0.017889448,-0.018033523,-0.008974739,0.0029910796,-0.003884051,0.0070357155,0.0076060165,0.00893872,0.0029355502,0.013951367,-0.012714714,0.021779502,0.047545105,0.015392128,-0.017097028,0.013783279,-0.04379913,-0.05796661,-0.005351826,-0.02732643,-0.03179279,0.025693567,0.0035208592,0.020506829,0.023076186,-0.024300832,0.019906512,-0.031912852,-0.0037699908,-0.013543151,0.01532009,-0.04927402,-0.010817712,-0.012750734,-0.006255303,-0.0011240935,-0.009094803,0.019438265,0.005931132,0.0069276583,0.017757377,-0.017433206,-0.043054737,0.00734788,-0.03414603,-0.00091248186,0.013495126,0.0052677817,-0.0024402887,0.03457826,-0.01361519,0.005114701,0.026101783,-0.015620248,0.015272065,0.023760548,0.018297663,-0.005895113,-0.032273043,0.029679673,0.0012036356,0.00048513117,0.0282149,0.017601294,0.043078747,-0.01853779,-0.025525479,0.036403224,0.01978645,0.017469225,0.008062257,-0.009274898,-0.0071497755,-0.013062898,-0.05546929,0.0012966847,0.0062312903,0.004592425,-0.034842398,0.011724191,-0.026269872,-0.003232707,-0.020578867,0.013855317,-0.015067956,0.008128292,-0.0029910796,0.04091761,-0.013050891,0.017109035,0.00070424686,0.015920406,-0.0033677784,0.023580452,0.024468921,0.000598441,0.0071617817,-0.029535597,0.01410745,0.017817408,0.041662,0.0035838925,-0.0013169454,0.04756912,0.01853779,0.028094836,0.065602645,-5.7827412e-05,0.03299342,-0.0006941165,-0.003962092,0.012774746,-0.0094730025,-0.003935078,0.027110316,-0.032561194,0.023940641,0.026630063,0.013134936,-0.0029190416,-0.026918214,-0.012462581,-0.0076360325,0.009845199,0.019894505,-0.016556744,-0.018777916,0.010313446,-0.004520387,-0.017997503,0.049610198,-0.012426562,-0.015704293,0.047881283,0.015560217,0.015464166,-0.010211392,0.0061172303,0.03962092,-0.005408856,0.017565276,0.0431748,-0.03330559,0.031504635,-0.048025362,0.031480625,-0.017133048,0.02617382,-0.014035411,0.024480928,-0.005033658,-0.020422785,0.008548514,0.05705413,0.0058050654,0.0050606723,-0.026269872,0.0034037975,0.01371124,0.008080267,0.024120737,-0.015620248,-0.014479646,0.03834825,0.026221847,0.026534012,-0.0044603553,0.032585207,-0.017793396,0.0075820037,0.0021386293,0.050570704,0.02283606,-0.017757377,-0.035538767,0.0070056994,-0.043150786,0.00452639,0.0073838993,0.027758658,-0.048673704,-0.017409192,-0.02079498,-0.0020200668,0.031192472,-0.009479006,-0.018897979,0.0055139116,-0.009803177,0.0063393475,-0.0024072712,-0.011868267,-0.0077620987,-0.02352042,0.0041481904,-0.0011518582,-0.0040221238,-0.018573808,0.025477454,-0.009274898,0.03592297,-0.0073058577,0.025189301,0.021839533,0.0057480354,0.027398469,0.020410778,0.013663215,-0.0043372903,-0.0006595983,-0.0067835823,0.0042652525,-0.033785842,-0.021047113,0.01166416,0.0018669859,-0.03969296,0.034098007,-0.014287544,-0.02939152,0.00020579617,0.028623115,-0.022559913,0.011225928,-0.020662911,0.005345823,0.006603487,-0.002609878,0.007756096,0.0034128022,-0.024336852,0.0030691207,0.013759266,0.04543199,-0.02463701,-0.02939152,0.025309365,0.013110924,-0.010667633,0.041613974,-0.011580115,0.027998785,0.022163704,0.0027179352,0.03421807,0.019366227,0.016592762,-0.009527031,0.027854709,0.0032927387,-0.009941249,0.059791572,-0.026317898,0.0048925835,-0.019942531,-0.01604047,0.009154835,-0.007588007,0.011922296,-0.015368115,-0.037867997,0.01833368,-0.0036919496,-0.028839229,-0.016340628,0.010703652,0.025213314,-0.029271457,0.025909683,0.008986746,-0.0039170682,0.028551077,-0.0028770193,0.035538767,-0.019366227,0.0073718927,-0.00046637128,0.029895786,0.0061892685,0.02132326,-0.027374456,-0.0021731476,0.009599069,-0.01272672,0.016160535,-0.034170043,-0.020350747,0.0065794745,-0.01882594,-0.028599102,-0.00823635,0.021779502,-0.0060211797,0.0009665104,0.0076840576,-0.0061832652,0.007954201,0.008032242,-0.008872685,-0.015572223,0.011838252,0.015752317,0.019390238,-0.007924184,-0.054124583,-0.034194056,-0.0148038175,0.0047485074,0.039356783,-0.018177599,-0.007852146,0.0049886345,0.014083437,-0.032825332,0.0056159655,-0.029127382,0.008074264,0.029007317,0.0039560893,0.0768886,0.021443324,-0.0033887895,-0.012210448,-0.00036619336,-0.012306498,0.02001457,0.005982159,0.0037069574,0.049322046,-0.00736589,-0.053980503,-0.012012343,-0.023568446,-0.0028920271,-0.008566524,0.03726768,-0.011460052,0.008950726,-0.010439512,0.017973492,-0.015139995,0.015428147,-0.03630717,-0.011454049,-0.003160669,-0.010499544,0.012114397,0.011832248,0.02191157,-0.0073298705,0.010385484,-0.00810428,0.006789585,0.01568028,-0.012426562,0.0031366562,0.019042056,-0.008182321,-0.0021596404,0.003544872,0.025189301,0.0052827895,-0.022715995,0.028527064,0.02302816,-0.0064834235,0.012522613,0.030856295,-0.014659741,0.01909008,0.033257563,0.024661023,-0.012162423,0.023220262,0.011201915,-0.027470507,-0.010841725,0.034626286,-0.012678695,-0.036979526,-0.01335105,0.0016328623,0.00446936,0.034626286,-0.0034698322,-0.042502444,0.012114397,0.00016246078,-0.011448045,-0.005216755,0.016148528,0.026461974,0.00052340137,0.037483793,-0.02283606,0.00023281045,0.05205949,-0.011111868,-0.006849617,-0.009887221,-0.014503659,0.03923672,0.008854676,0.019114094,-0.0024222792,-0.009088799,-0.009707126,0.047737207,0.02119119,-0.009310917,0.0076720514,0.02723038,0.005736029,-0.0064474046,0.00183697,-0.0333296,-0.01751725,-0.026101783,-0.020026576,0.03155266,-0.0073178643,-0.03630717,0.016880915,0.02316023,-0.011976324,0.016184546,0.009773161,0.02213969,0.0067595695,-0.017613301,-0.009959259,0.015260058,-0.03253718,-0.03609106,-0.0057840543,-0.017445212,-0.015500185,0.044639573,0.019762436,-0.0054268655,0.024733061,0.03090432,-0.022499882,0.048265487,-0.001649371,0.037771948,0.048889816,-0.007389902,0.005363832,-0.001530058,-0.0028560082,0.0006280817,0.020542847,-0.025429428,0.022920104,-0.018405719,-0.013206974,0.025837643,-0.01827365,0.008278372,0.017625308,-0.0052977977,-0.010445516,-0.021071127,-0.0083864285,0.0037940035,-0.0063153347,0.003884051,0.02831095,-0.024709048,0.046920776,-0.015103976,-0.03798806,0.0267021,0.03433813,0.024072712,-0.035874944,-0.042790595,-0.016964959,-0.014527672,0.0072818454,-0.011081852,0.0108237155,0.035634816,-0.013495126,-0.005366834,0.015548211,0.005988162,0.016508717,0.019462278,0.024685035,-0.024805099,-0.009851202,-0.014443628,0.026005732,-0.044063266,0.010835722,-0.014155475,0.0018174597,0.003992108,-0.005766045,-0.023988668,0.02119119,0.048145425,0.036403224,0.025957707,-0.0026579036,-0.0050216517,0.018261643,-0.016052477,-0.0009492513,-0.0023232268,0.008668577,-0.01469576,-0.050282553,0.008320394,0.018153585,0.0024612998,-0.001164615,-0.026654076,0.03155266,0.025933694,0.00091548346,-0.021767495,-0.0028680144,-0.005973154,0.022187717,-0.015404134,0.013999392,0.005778051,-0.027278405,0.019858487,-0.019378234,-0.003052612,-0.007966206,0.012378537,0.016016457,-0.014659741,0.034025967,-0.02266797,-0.050570704,-0.015524197,-0.00916684,-0.058014635,-0.0005050167,0.07458338,-0.021395298,0.006675525,0.0071077533,0.014287544,-0.014155475,0.023760548,-0.026029745,-0.0016313614,-0.015992446,0.021827526,-0.015067956,-0.012234461,0.00011706181,0.022776026,-0.024853123,0.0042262315,-0.004205221,-0.04084557,-0.028382989,-0.0027719638,0.01357917,0.010577586,-0.012414556,-0.017277123,0.03335361,-0.009689117,-0.022679977,0.0020560857,-0.029535597,0.038684428,-0.026317898,0.014647735,-0.01348312,0.0041271793,-0.020422785,0.015596236,0.01755327,-0.01643668,-0.006849617,0.01384331,-0.004973626,-0.022740008,0.0044303397,-0.02732643,0.016328622,0.017589288,-0.017169066,-0.022944115,-0.02588567,0.011009814,0.027038278,0.003043607,-0.0053998516,-0.020758962,0.0044243364,0.008242353,-0.04951415,0.018189605,0.016412666,0.017337155,0.020050587,0.017949479,-0.0061232336,-0.007059728,0.002393764,-0.031480625,0.0063453508,0.0068316073,-0.00992324,0.017012984,-0.012822771,0.009268895,-0.0019300191,0.027494518,-0.006957674,-0.019330207,0.035130553,0.015200026,0.018465752,0.010457522,1.13966435e-05,-0.0032657245,-0.001924016,0.0068976423,-0.008866682,0.006669522,-0.006243297,-0.030376041,-0.014539678,0.010463526,0.011117871,0.0038000066,0.056814,-0.0052407673,-0.02109514,0.01090776,0.0075039626,-0.021935584,-0.05350025,-0.016148528,-0.0102714235,-0.0033107484,0.031816803,0.03136056,0.03306546,0.008284375,-0.03842029,0.024180768,-0.005258777,-0.019042056,0.020662911,0.013315031,-0.023040166,0.04031729,0.017913459,-0.006543455,-0.0015788337,0.008452463,0.0039650938,0.018970018,0.023196248,0.01751725,0.021419311,0.03044808,0.008530505,-0.0008276871,-0.034170043,-0.055517316,0.0054658866,0.020831,-0.006069205,0.023940641,-0.01473178,0.020855013,-0.009088799,-0.02922343,-0.009292907,0.014539678,-0.016580755,-0.037795957,0.003349769,-0.0134711135,0.051387135,-0.019210145,0.03289737,-0.025813632,-0.0032237023,-0.006255303,0.00026545266,0.00956305,0.021011095,-0.014227513,0.009653097,0.0029820746,0.0026519003,-0.016556744,0.008206333,-0.010007285,0.0023307307,0.009466999,0.025213314,-0.011003811]'::vector)\",)\n",
      "('        ->  Materialize  (cost=10000000000.00..10000021264.08 rows=533 width=4) (actual time=0.001..0.033 rows=10 loops=2089)',)\n",
      "('              ->  Seq Scan on calendar c  (cost=10000000000.00..10000021261.41 rows=533 width=4) (actual time=2.074..68.856 rows=10 loops=1)',)\n",
      "(\"                    Filter: ((price < '30'::numeric) AND (date = '2017-01-02'::date) AND ((available)::text = 't'::text))\",)\n",
      "('                    Rows Removed by Filter: 928185',)\n",
      "('Planning Time: 1.117 ms',)\n",
      "('Execution Time: 75.339 ms',)\n",
      "========== Rows from Database ==========\n",
      "(7064681, 'Tent Crash Pad', 'For those low budget travelers that need just a place to sleep, shower, and a toilet then you found it.  This listing is for me providing a two person tent, sleeping pads, and sleeping bags. I also have a three person tent available. Min 2 night stay', 'For those low budget travelers that need just a place to sleep, shower, and a toilet then you found it.  This listing is for me providing a two person tent, sleeping pads, and sleeping bags. I also have a three person tent available. Min 2 night stay We have space in our back yard for a couple of tents. This listing is for a two person tent, sleeping pads, and bags. I also have a three person tent but it is a bit snug and there is an additional fee for the extra person. Our neighbor does have a dog so we ask you to keep the noise down to help prevent the dog from barking.  NO SMOKING OR SMOKERS.  I will discount the price by $10 if you bring your own gear. As a tent guest you will have access to a toilet at anytime. Access to a shower is limited from 10am to 9pm. My schedule is crazy but since you will be staying outside then the tent will be ready for you prior to your arrival. Then we can meet later in the day to go through bathroom access inside the house. We live a nice quite and s')\n",
      "(7411863, 'Room E Single Bed in the conner', 'Single Bed in the conner of laundry room  Clean and quiet.  Easiest commute in town - From SeaTac airport to my place, it takes only about 20 min via LINK light rail, and from our place to downtown Seattle is a 15 min ride. 3min by foot to station.', 'Single Bed in the conner of laundry room  Clean and quiet.  Easiest commute in town - From SeaTac airport to my place, it takes only about 20 min via LINK light rail, and from our place to downtown Seattle is a 15 min ride. 3min by foot to station. This Single Bed is in the conner of laundry room. Free parking sport around the house.')\n",
      "(2459519, 'Fabulous Views of Lakes & Mountains', \"Centrally located, minutes to downtown. Views are panoramic of the Cascade Mountains,  Portage Bay and University of Washington. We overlook the Seattle Yacht Club and Seattle's famous floating homes. Walk to restaurants. Superb & quiet neighborhood!\", \"Centrally located, minutes to downtown. Views are panoramic of the Cascade Mountains,  Portage Bay and University of Washington. We overlook the Seattle Yacht Club and Seattle's famous floating homes. Walk to restaurants. Superb & quiet neighborhood! Welcome! Our house is ideally located for visiting Seattle. Minutes to downtown sites and nightlife, but in a quiet highly desirable neighbourhood. Our fully remodeled 1903 house is bright and light with an open floor plan in the main floor. The gourmet kitchen is well-equipped for entertaining and large groups. The kitchen opens to the living space which also has a built-in reading nook for afternoon lounging. The kitchen also opens to an East-facing deck with tables and seating for eight. The gas BBQ is just down the stairs. Just off the entry is our den with fireplace, piano and guest guitars for your use.  The second floor has three bedrooms, each with ample space.  The master bed is a Cal King, one bedroom is a double bed and the othe\")\n",
      "(7011773, 'Pull out couch in garage', 'By Special Request Only', 'By Special Request Only')\n",
      "(3811828, 'Crayola Home Green Room-Bunk Bed 3', 'Our space is a mix of a hostel and a home. We are a group of long-term residents & subletors who welcome short term guests. This is the house to meet folks whether you are moving to town or traveling through. The house offers quiet and social spaces.', 'Our space is a mix of a hostel and a home. We are a group of long-term residents & subletors who welcome short term guests. This is the house to meet folks whether you are moving to town or traveling through. The house offers quiet and social spaces. Our listing offers a unique Airbnb experience of staying with other Airbnb guests in a shared room as well as in a house of roommates who live in Seattle. This room is a great fit for individual or groups of travelers on a budget who are interested in meeting interesting people right in the place they are staying! We created this house so that people from around the world could meet, share experiences together and potentially create long lasting friendships that go beyond their time in our house. In a big house we are making the world smaller with more connections between people. Below is more information about your shared room, about us and about our house. Read through and see if we are a good fit for your trip! ABOUT YOUR SHARED ROOM:  ')\n",
      "(3994601, 'Crayola Home Green Room-Bunk Bed 5', 'Our space is a mix of a hostel and a home. We are a group of long-term residents & subletors who welcome short term guests. This is the house to meet folks whether you are moving to town or traveling through. The house offers quiet and social spaces.', 'Our space is a mix of a hostel and a home. We are a group of long-term residents & subletors who welcome short term guests. This is the house to meet folks whether you are moving to town or traveling through. The house offers quiet and social spaces. Our listing offers a unique Airbnb experience of staying with other Airbnb guests in a shared room as well as in a house of roommates who live in Seattle. This room is a great fit for individual or groups of travelers on a budget who are interested in meeting interesting people right in the place they are staying! We created this house so that people from around the world could meet, share experiences together and potentially create long lasting friendships that go beyond their time in our house. In a big house we are making the world smaller with more connections between people. Below is more information about your shared room, about us and about our house. Read through and see if we are a good fit for your trip! ABOUT YOUR SHARED ROOM:  ')\n",
      "(3994634, 'Crayola Home Green room-Bunk Bed 6', 'Our space is a mix of a hostel and a home. We are a group of long-term residents & subletors who welcome short term guests. This is the house to meet folks whether you are moving to town or traveling through. The house offers quiet and social spaces.', 'Our space is a mix of a hostel and a home. We are a group of long-term residents & subletors who welcome short term guests. This is the house to meet folks whether you are moving to town or traveling through. The house offers quiet and social spaces. Our listing offers a unique Airbnb experience of staying with other Airbnb guests in a shared room as well as in a house of roommates who live in Seattle. This room is a great fit for individual or groups of travelers on a budget who are interested in meeting interesting people right in the place they are staying! We created this house so that people from around the world could meet, share experiences together and potentially create long lasting friendships that go beyond their time in our house. In a big house we are making the world smaller with more connections between people. Below is more information about your shared room, about us and about our house. Read through and see if we are a good fit for your trip! ABOUT YOUR SHARED ROOM:  ')\n",
      "(3666970, 'Crayola Home - Purple Room Bunk 3', 'Our space is a mix of a hostel and a home. We are a group of long-term residents & subletors who welcome short term guests. This is the house to meet folks whether you are moving to town or traveling through. The house offers quiet and social spaces.', 'Our space is a mix of a hostel and a home. We are a group of long-term residents & subletors who welcome short term guests. This is the house to meet folks whether you are moving to town or traveling through. The house offers quiet and social spaces. Our listing offers a unique Airbnb experience of staying with other Airbnb guests in a shared room as well as in a house of roommates who live in Seattle. This room is a great fit for individual or groups of travelers on a budget who are interested in meeting interesting people right in the place they are staying! We created this house so that people from around the world could meet, share experiences together and potentially create long lasting friendships that go beyond their time in our house. In a big house we are making the world smaller with more connections between people. Below is more information about your shared room, about us and about our house. Read through and see if we are a good fit for your trip! ABOUT YOUR SHARED ROOM:  ')\n",
      "(4701205, 'couch in CapHill studio by downtown', 'A 5 minute walk from both Broadway (the heart of Capitol Hill) and downtown Seattle. Despite living between 5 bars, noise levels at night are very small. A bus ride away from U-District.   ', \"A 5 minute walk from both Broadway (the heart of Capitol Hill) and downtown Seattle. Despite living between 5 bars, noise levels at night are very small. A bus ride away from U-District.    My apartment is a almost like a studio layout...I have a living room connected to a kitchen connected to my bedroom. My bedroom does not have a door on it. The apartment is made of brick, which I feel helps deter sound going from one apartment into another (I've never had any noise complaints with my music, despite the 85 decibel noise level). A bathroom, a barbell rack and barbell, various (PHONE NUMBER HIDDEN), and 45 pound weights. I'm down to hang out with you for a few hours! Maybe even show you some of the tourist spots! Lots of music, arts, gay friendly, liberal, Q Nightclub (EDM music)... Lots of bus lines around! 8 goes to the Space Needle.\")\n",
      "(4825073, 'Cute Basement Apartment', '2 bedroom fully finished basement apartment with separate entrance.', '2 bedroom fully finished basement apartment with separate entrance.')\n"
     ]
    }
   ],
   "source": [
    "sql_query = \"\"\"\n",
    "\tWITH listing_cte AS\n",
    "\t(\n",
    "\t\tSELECT l.listing_id, name, summary, description, description_vector\n",
    "\t\tFROM listings_diskann l \n",
    "\t\tINNER JOIN calendar c ON l.listing_id = c.listing_id \n",
    "\t\tWHERE c.date = '2017-01-02' AND c.available = 't' AND c.price < 30\n",
    "\t)\n",
    "\tSELECT l.listing_id, name, summary, description\n",
    "\tFROM listing_cte l\n",
    "\tORDER BY description_vector <=> %s::vector\n",
    "\tLIMIT 10;\n",
    "\"\"\"\n",
    "\n",
    "# Establish a connection to the PostgreSQL database\n",
    "with psycopg.connect(CONN_STR) as conn:\n",
    "\twith conn.cursor() as cur:\n",
    "\t\t# Execute the SQL query\n",
    "\t\temb = embedding_query(DEFAULT_SEARCH_QUERY)\n",
    "\t\t\n",
    "\t\tprint(\"=\"*10, \"Explanation of the query\", \"=\"*10)\n",
    "\n",
    "\t\texplain = \"explain analyze\"\n",
    "\t\toff_scan = \"SET LOCAL enable_seqscan TO OFF;\"\n",
    "\n",
    "\t\tcur.execute(off_scan)\n",
    "\n",
    "\t\tcur.execute(explain+sql_query, (emb,))\n",
    "\t\t\n",
    "\t\t# Fetch the results\n",
    "\t\tresults = cur.fetchall()\n",
    "\t\t\n",
    "\t\t# Print the results\n",
    "\t\tfor row in results:\n",
    "\t\t\tprint(row)\n",
    "\t\tprint(\"=\"*10, \"Rows from Database\", \"=\"*10)\n",
    "\n",
    "\t\t# Fetch the results\n",
    "\t\tcur.execute(sql_query, (emb,))\n",
    "\t\tresults = cur.fetchall()\n",
    "\t\t\n",
    "\t\t# Print the results\n",
    "\t\tfor row in results:\n",
    "\t\t\tprint(row)\n",
    "\t\tretrieved_ids_diskann = [row[0] for row in results]\n"
   ]
  },
  {
   "cell_type": "code",
   "execution_count": 22,
   "metadata": {},
   "outputs": [
    {
     "data": {
      "text/plain": [
       "{2459519,\n",
       " 3666970,\n",
       " 3811828,\n",
       " 3994601,\n",
       " 3994634,\n",
       " 4701205,\n",
       " 4825073,\n",
       " 7011773,\n",
       " 7064681,\n",
       " 7411863}"
      ]
     },
     "execution_count": 22,
     "metadata": {},
     "output_type": "execute_result"
    }
   ],
   "source": [
    "set(retrieved_ids_diskann)"
   ]
  },
  {
   "cell_type": "markdown",
   "metadata": {},
   "source": [
    "## Recall for DiskANN vs No Index\n",
    "This works because of the iterator return. We keep increasing the candidate list until we run through the index or we reach to asked top k"
   ]
  },
  {
   "cell_type": "code",
   "execution_count": 23,
   "metadata": {},
   "outputs": [
    {
     "data": {
      "text/plain": [
       "1.0"
      ]
     },
     "execution_count": 23,
     "metadata": {},
     "output_type": "execute_result"
    }
   ],
   "source": [
    "len(set(retrieved_ids_diskann).intersection(set(retrieved_ids_no_index))) / len(set(retrieved_ids_no_index))"
   ]
  }
 ],
 "metadata": {
  "kernelspec": {
   "display_name": "Python 3",
   "language": "python",
   "name": "python3"
  },
  "language_info": {
   "codemirror_mode": {
    "name": "ipython",
    "version": 3
   },
   "file_extension": ".py",
   "mimetype": "text/x-python",
   "name": "python",
   "nbconvert_exporter": "python",
   "pygments_lexer": "ipython3",
   "version": "3.12.6"
  }
 },
 "nbformat": 4,
 "nbformat_minor": 2
}
